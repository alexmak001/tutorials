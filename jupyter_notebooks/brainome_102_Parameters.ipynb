{
 "cells": [
  {
   "cell_type": "markdown",
   "id": "f6a60e7a",
   "metadata": {},
   "source": [
    "# Brainome 102 Parameters"
   ]
  },
  {
   "cell_type": "markdown",
   "id": "2f00ca3f",
   "metadata": {},
   "source": [
    "## Install brainome"
   ]
  },
  {
   "cell_type": "code",
   "execution_count": null,
   "id": "ae6c46cc",
   "metadata": {},
   "outputs": [],
   "source": [
    "# pip install brainome \n",
    "import sys\n",
    "!{sys.executable} -m pip -q install --upgrade brainome"
   ]
  },
  {
   "cell_type": "markdown",
   "id": "55700465",
   "metadata": {},
   "source": [
    "## brainome --help"
   ]
  },
  {
   "cell_type": "code",
   "execution_count": null,
   "id": "b0f2c1ce",
   "metadata": {},
   "outputs": [],
   "source": [
    "!brainome --help"
   ]
  },
  {
   "cell_type": "code",
   "execution_count": null,
   "id": "4ab3b013",
   "metadata": {},
   "outputs": [],
   "source": []
  }
 ],
 "metadata": {
  "kernelspec": {
   "display_name": "Python 3 (ipykernel)",
   "language": "python",
   "name": "python3"
  },
  "language_info": {
   "codemirror_mode": {
    "name": "ipython",
    "version": 3
   },
   "file_extension": ".py",
   "mimetype": "text/x-python",
   "name": "python",
   "nbconvert_exporter": "python",
   "pygments_lexer": "ipython3",
   "version": "3.9.6"
  }
 },
 "nbformat": 4,
 "nbformat_minor": 5
}
