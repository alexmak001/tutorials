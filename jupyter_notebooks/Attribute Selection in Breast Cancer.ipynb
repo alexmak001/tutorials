{
 "cells": [
  {
   "cell_type": "markdown",
   "metadata": {},
   "source": [
    "# Breast Cancer Prediction Using Daimensions Attribute Ranking\n",
    "\n",
    "In this notebook, we'll be working with a dataset from the University of California Irvine's Machine Learning Repository. It has nine attribute columns to describe various aspects of cells and one classification column that classifies each cell as benign or malignant cancer. More information about the data can be found at: https://archive.ics.uci.edu/ml/datasets/Breast+Cancer+Wisconsin+(Diagnostic).\n",
    "\n",
    "We have two goals: one is to build a model predicting whether a cell is benign or malignant on future cell data and the other is to use attribute rank to learn about which attributes of the cell are most important for predicting cancer in cells. Daimensions' attribute rank option is useful for a lot of biomedical data like cancer cells because most of the time we are not only looking to predict which cells are cancerous but also what caused the cancer. Attribute rank helps us learn about this aspect of the data by telling us which attributes most closely correlate with a cell's classification. This greatly contributes to our understanding of the data and helps guide us toward probable cause.\n",
    "\n",
    "Here is a look at our training data and the attributes we're using. For the target column, 2 is benign and 4 is malignant."
   ]
  },
  {
   "cell_type": "code",
   "execution_count": 1,
   "metadata": {},
   "outputs": [
    {
     "name": "stdout",
     "output_type": "stream",
     "text": [
      "Clump_Thickness,Uniformity_of_Cell_Size,Uniformity_of_Cell_Shape,Marginal_Adhesion,Single_Epithelial_Cell_Size,Bare_Nuclei,Bland_Chromatin,Normal_Nucleoli,Mitoses,Class\n",
      "5,1,1,1,2,1,3,1,1,2\n",
      "5,4,4,5,7,10,3,2,1,2\n",
      "3,1,1,1,2,2,3,1,1,2\n",
      "6,8,8,1,3,4,3,7,1,2\n",
      "4,1,1,3,2,1,3,1,1,2\n",
      "8,10,10,8,7,10,9,7,1,4\n",
      "1,1,1,1,2,10,3,1,1,2\n",
      "2,1,2,1,2,1,3,1,1,2\n",
      "2,1,1,1,2,1,1,1,5,2\n"
     ]
    }
   ],
   "source": [
    "! head data/cancer_train.csv\n",
    "# For Windows command prompt:\n",
    "# type cancer_train.csv | more"
   ]
  },
  {
   "cell_type": "markdown",
   "metadata": {},
   "source": [
    "### Installing Brainome via Pip\n",
    "Simply run the cell below in order to install Brainome and be able to use it in terminal"
   ]
  },
  {
   "cell_type": "code",
   "execution_count": 2,
   "metadata": {},
   "outputs": [],
   "source": [
    "# ! pip install brainome"
   ]
  },
  {
   "cell_type": "markdown",
   "metadata": {},
   "source": [
    "## 1. Get Measurements\n",
    "\n",
    "We always want to measure our data before building our predictor in order to ensure we are building the right model. For more information about how to use Daimensions and why we want to measure our data beforehand, check out the Titanic notebook."
   ]
  },
  {
   "cell_type": "code",
   "execution_count": 2,
   "metadata": {},
   "outputs": [
    {
     "name": "stdout",
     "output_type": "stream",
     "text": [
      "WARNING: Could not detect a GPU. Neural Network generation will be slow.\n",
      "\n",
      "\u001b[01;1mBrainome Table Compiler v1.005-7-prod\u001b[0m\n",
      "Copyright (c) 2019-2021 Brainome, Inc. All Rights Reserved.\n",
      "Licensed to:                 Alexander Makhratchev  (Evaluation)\n",
      "Expiration Date:             2021-08-31   26 days left\n",
      "Maximum File Size:           30 GB\n",
      "Maximum Instances:           unlimited\n",
      "Maximum Attributes:          unlimited\n",
      "Maximum Classes:             unlimited\n",
      "Connected to:                daimensions.brainome.ai  (local execution)\n",
      "\n",
      "\u001b[01;1mCommand:\u001b[0m\n",
      "    btc -measureonly data/cancer_train.csv\n",
      "\n",
      "Start Time:                 08/05/2021, 16:43 PDT\n",
      "\n",
      "Cleaning...done. \n",
      "Splitting into training and validation...done. \n",
      "Pre-training measurements...done. \n",
      "\n",
      "\n",
      "\u001b[01;1mPre-training Measurements\u001b[0m\n",
      "Data:\n",
      "    Input:                      data/cancer_train.csv\n",
      "    Target Column:              Class\n",
      "    Number of instances:        559\n",
      "    Number of attributes:         9 out of 9\n",
      "    Number of classes:            2\n",
      "\n",
      "Class Balance:                \n",
      "                               2: 63.15%\n",
      "                               4: 36.85%\n",
      "\n",
      "Learnability:\n",
      "    Best guess accuracy:          63.15%\n",
      "    Data Sufficiency:             Maybe enough data to generalize. [yellow]\n",
      "\n",
      "Capacity Progression:             at [ 5%, 10%, 20%, 40%, 80%, 100% ]\n",
      "    Ideal Machine Learner:              3,   4,   4,   4,   5,   5\n",
      "\n",
      "\n",
      "\n",
      "\n",
      "Expected Generalization:\n",
      "    Decision Tree:                43.36 bits/bit\n",
      "    Neural Network:                9.48 bits/bit\n",
      "    Random Forest:                46.58 bits/bit\n",
      "\n",
      "Expected Accuracy:              Training            Validation\n",
      "    Decision Tree:                98.03%                95.89%\n",
      "    Neural Network:                 ----                  ----\n",
      "    Random Forest:               100.00%                95.71%\n",
      "\n",
      "Recommendations:\n",
      "    We recommend using Random Forest -f RF.\n",
      "    If predictor accuracy is insufficient, try using the option -rank to automatically select the important attributes.\n",
      "    If predictor accuracy is insufficient, try using the effort option -e with a value of 5 or more to increase training time. \n",
      "\n",
      "Time to Build Estimates:\n",
      "    Decision Tree:                a few seconds\n",
      "\n",
      "\n",
      "\n",
      "\n",
      "End Time:           08/05/2021, 16:43 PDT\n",
      "Runtime Duration:   5s\n",
      "\n"
     ]
    }
   ],
   "source": [
    "! brainome -measureonly data/cancer_train.csv"
   ]
  },
  {
   "cell_type": "markdown",
   "metadata": {},
   "source": [
    "## 2. Build the Predictor\n",
    "\n",
    "Based on our measurements, Daimensions recommends we use a decision tree, which has lower risk of overfit and higher generalization for this dataset. We are also using -rank to prioritize certain attributes from our data, and we'll look at which attributes Daimensions decides are important later."
   ]
  },
  {
   "cell_type": "code",
   "execution_count": 3,
   "metadata": {
    "codehighlighter": [
     [
      0,
      1
     ],
     [
      0,
      1
     ]
    ]
   },
   "outputs": [
    {
     "name": "stdout",
     "output_type": "stream",
     "text": [
      "WARNING: Could not detect a GPU. Neural Network generation will be slow.\n",
      "\n",
      "\u001b[01;1mBrainome Table Compiler v1.005-7-prod\u001b[0m\n",
      "Copyright (c) 2019-2021 Brainome, Inc. All Rights Reserved.\n",
      "Licensed to:                 Alexander Makhratchev  (Evaluation)\n",
      "Expiration Date:             2021-08-31   26 days left\n",
      "Maximum File Size:           30 GB\n",
      "Maximum Instances:           unlimited\n",
      "Maximum Attributes:          unlimited\n",
      "Maximum Classes:             unlimited\n",
      "Connected to:                daimensions.brainome.ai  (local execution)\n",
      "\n",
      "\u001b[01;1mCommand:\u001b[0m\n",
      "    btc -v -v -f DT data/cancer_train.csv -o cancer_predict.py -e 10 -rank --yes\n",
      "\n",
      "Start Time:                 08/05/2021, 16:43 PDT\n",
      "\n",
      "Cleaning...done. < 1s\n",
      "Ranking attributes...done. < 1s\n",
      "\n",
      "\u001b[01;1mAttribute Ranking:\u001b[0m\n",
      "    Columns selected:           Uniformity_of_Cell_Shape, Bare_Nuclei, Clump_Thickness, Normal_Nucleoli, Uniformity_of_Cell_Size\n",
      "    Risk of coincidental column correlation:    0.0%\n",
      "    Ignoring columns:           Marginal_Adhesion, Single_Epithelial_Cell_Size, Bland_Chromatin, Mitoses\n",
      "    Test Accuracy Progression:\n",
      "                     Uniformity_of_Cell_Shape :   91.41%\n",
      "                                  Bare_Nuclei :   94.28% change   +2.86%\n",
      "                              Clump_Thickness :   95.71% change   +1.43%\n",
      "                              Normal_Nucleoli :   96.24% change   +0.54%\n",
      "                      Uniformity_of_Cell_Size :   96.42% change   +0.18%\n",
      "         \n",
      "Splitting into training and validation...done. < 1s\n",
      "Pre-training measurements...done. 3s\n",
      "\n",
      "\n",
      "\u001b[01;1mPre-training Measurements\u001b[0m\n",
      "Data:\n",
      "    Input:                      data/cancer_train.csv\n",
      "    Target Column:              Class\n",
      "    Number of instances:        559\n",
      "    Number of attributes:         5 out of 9\n",
      "    Number of classes:            2\n",
      "\n",
      "Class Balance:                \n",
      "                               2: 63.15%\n",
      "                               4: 36.85%\n",
      "\n",
      "Learnability:\n",
      "    Best guess accuracy:          63.15%\n",
      "    Data Sufficiency:             Not enough data to generalize. [red]\n",
      "\n",
      "Capacity Progression:             at [ 5%, 10%, 20%, 40%, 80%, 100% ]\n",
      "    Ideal Machine Learner:              2,   3,   4,   4,   4,   5\n",
      "\n",
      "Estimated Memory Equivalent Capacity:\n",
      "    Decision Tree:                 5 bits\n",
      "    Neural Networks:              36 bits\n",
      "    Random Forest:                 8 bits\n",
      "\n",
      "\n",
      "Percent of data that would be memorized:\n",
      "    Decision Tree:                 1.97%\n",
      "    Neural Networks:              56.25%\n",
      "    Random Forest:                 7.02%\n",
      "\n",
      "\n",
      "\n",
      "    Decision Tree:               103.31 bits/bit\n",
      "    Neural Network:               14.74 bits/bit\n",
      "    Random Forest:                69.88 bits/bit\n",
      "\n",
      "Expected Accuracy:              Training            Validation\n",
      "    Decision Tree:                97.32%                96.42%\n",
      "    Neural Network:                 ----                  ----\n",
      "    Random Forest:               100.00%                97.14%\n",
      "\n",
      "Recommendations:\n",
      "    We recommend using Random Forest -f RF.\n",
      "    If predictor accuracy is insufficient, try using the option -rank to automatically select the important attributes.\n",
      "    Model type DT given by user. \n",
      "\n",
      "Time to Build Estimates:\n",
      "    Decision Tree:                a few seconds\n",
      "\n",
      "\n",
      "Building classifier...done. 5s\n",
      "Training...done. 5s\n",
      "Compiling predictor...done. 1s\n",
      "Validating predictor...done. 1s\n",
      "\n",
      "\u001b[01;1mPredictor:\u001b[0m                        cancer_predict.py\n",
      "    Classifier Type:              Decision Tree\n",
      "    System Type:                  Binary classifier\n",
      "    Training / Validation Split:  70% : 30%\n",
      "    Accuracy:\n",
      "      Best-guess accuracy:        63.15%\n",
      "      Training accuracy:          97.69% (382/391 correct)\n",
      "      Validation Accuracy:        95.83% (161/168 correct)\n",
      "      Combined Model Accuracy:    97.13% (543/559 correct)\n",
      "\n",
      "    Model Capacity (MEC):          7    bits\n",
      "\n",
      "    Generalization Ratio:         51.81 bits/bit\n",
      "    Percent of Data Memorized:     3.94%\n",
      "    Resilience to Noise:          -1.74 dB\n",
      "    System Meter Runtime Duration:    1s\n",
      "\n",
      "    Training Confusion Matrix:\n",
      "              Actual | Predicted\n",
      "              ------ | ---------\n",
      "                   2 |  242    5 \n",
      "                   4 |    4  140 \n",
      "\n",
      "    Validation Confusion Matrix:\n",
      "              Actual | Predicted\n",
      "              ------ | ---------\n",
      "                   2 |  100    6 \n",
      "                   4 |    1   61 \n",
      "\n",
      "    Combined Confusion Matrix:\n",
      "              Actual | Predicted\n",
      "              ------ | ---------\n",
      "                   2 |  342   11 \n",
      "                   4 |    5  201 \n",
      "\n",
      "    Training Accuracy by Class:\n",
      "               Class |   TP   FP   TN   FN     TPR      TNR      PPV      NPV       F1       TS \n",
      "               ----- | ---- ---- ---- ---- -------- -------- -------- -------- -------- --------\n",
      "                   2 |  242    4  140    5   97.98%   97.22%   98.37%   96.55%   98.17%   96.41%\n",
      "                   4 |  140    5  242    4   97.22%   97.98%   96.55%   98.37%   96.89%   93.96%\n",
      "\n",
      "    Validation Accuracy by Class:\n",
      "               Class |   TP   FP   TN   FN     TPR      TNR      PPV      NPV       F1       TS \n",
      "               ----- | ---- ---- ---- ---- -------- -------- -------- -------- -------- --------\n",
      "                   2 |  100    1   61    6   94.34%   98.39%   99.01%   91.04%   96.62%   93.46%\n",
      "                   4 |   61    6  100    1   98.39%   94.34%   91.04%   99.01%   94.57%   89.71%\n",
      "\n",
      "    Combined Accuracy by Class:\n",
      "               Class |   TP   FP   TN   FN     TPR      TNR      PPV      NPV       F1       TS \n",
      "               ----- | ---- ---- ---- ---- -------- -------- -------- -------- -------- --------\n",
      "                   2 |  342    5  201   11   96.88%   97.57%   98.56%   94.81%   97.71%   95.53%\n",
      "                   4 |  201   11  342    5   97.57%   96.88%   94.81%   98.56%   96.17%   92.63%\n",
      "\n",
      "\n",
      "\n",
      "\n",
      "\n",
      "End Time:           08/05/2021, 16:44 PDT\n",
      "Runtime Duration:   18s\n",
      "\n"
     ]
    }
   ],
   "source": [
    "! brainome -v -v -f DT data/cancer_train.csv -o cancer_predict.py -e 10 -rank --yes"
   ]
  },
  {
   "cell_type": "markdown",
   "metadata": {},
   "source": [
    "## 3. Validate the Model\n",
    "\n",
    "Now we can validate our model on a separate set of data that wasn't used for training."
   ]
  },
  {
   "cell_type": "code",
   "execution_count": 4,
   "metadata": {},
   "outputs": [
    {
     "name": "stdout",
     "output_type": "stream",
     "text": [
      "Classifier Type:                    Decision Tree\n",
      "System Type:                        2-way classifier\n",
      "\n",
      "Accuracy:\n",
      "    Best-guess accuracy:            75.00%\n",
      "    Model accuracy:                 99.28% (139/140 correct)\n",
      "    Improvement over best guess:    24.28% (of possible 25.0%)\n",
      "\n",
      "Model capacity (MEC):               7 bits\n",
      "Generalization ratio:               16.10 bits/bit\n",
      "\n",
      "Confusion Matrix:\n",
      "\n",
      "      Actual |Predicted\n",
      "    ------------------\n",
      "           2 |104   1\n",
      "           4 |  0  35\n",
      "\n",
      "Accuracy by Class:\n",
      "\n",
      "      target |  TP FP  TN FN     TPR     TNR     PPV     NPV      F1      TS\n",
      "    -------- | --- - --- - ------- ------- ------- ------- ------- -------\n",
      "           2 | 104 0  35 1  99.05% 100.00% 100.00%  97.22%  99.52%  99.05%\n",
      "           4 |  35 1 104 0 100.00%  99.05%  97.22% 100.00%  98.59%  97.22%\n"
     ]
    }
   ],
   "source": [
    "! python3 cancer_predict.py -validate data/cancer_valid.csv"
   ]
  },
  {
   "cell_type": "markdown",
   "metadata": {},
   "source": [
    "## 4. Learn From Attribute Rank\n",
    "\n",
    "From validating the data, we can see that the predictor has 99.28% accuracy. This is great for making predictions on future data. However, what might be of greater interest is looking at the output from building our predictor, specifically the attributes that Daimensions decided to use. Under the section of output called \"Attribute Rank,\" Daimensions has listed the attributes used: Uniformity_of_Cell_Size, Bare_Nuclei, Clump_Thickness, Marginal_Adhesion, Mitoses, and Uniformity_of_Cell_Shape. This information about what attributes were the best predictors of malignant cancer cells is valuable to scientists looking for the causes of this cancer."
   ]
  },
  {
   "cell_type": "markdown",
   "metadata": {},
   "source": [
    "## Citation\n",
    "This breast cancer databases was obtained from the University of Wisconsin Hospitals, Madison from Dr. William H. Wolberg.\n",
    "\n",
    "Sources:\n",
    "- Dr. WIlliam H. Wolberg (physician), University of Wisconsin Hospitals, Madison, Wisconsin, USA\n",
    "- Donor: Olvi Mangasarian (mangasarian@cs.wisc.edu), received by David W. Aha (aha@cs.jhu.edu)\n",
    "- Date: 15 July 1992"
   ]
  }
 ],
 "metadata": {
  "kernelspec": {
   "display_name": "Python 3.7.6 64-bit ('base': conda)",
   "name": "python376jvsc74a57bd0a876d5d129613f84737ac732b9dceeab4d5b6e46c5cd6a0b580a7fe744c52632"
  },
  "language_info": {
   "codemirror_mode": {
    "name": "ipython",
    "version": 3
   },
   "file_extension": ".py",
   "mimetype": "text/x-python",
   "name": "python",
   "nbconvert_exporter": "python",
   "pygments_lexer": "ipython3",
   "version": "3.7.6"
  }
 },
 "nbformat": 4,
 "nbformat_minor": 2
}