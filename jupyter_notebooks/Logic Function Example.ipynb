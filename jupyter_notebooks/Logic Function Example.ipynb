{
 "cells": [
  {
   "cell_type": "markdown",
   "metadata": {},
   "source": [
    "# Artificially-Created Data Prediction Using Daimensions to Demonstrate Logic Functions\n",
    "\n",
    "This dataset was artificially created with a specific rule in mind. The goal of this notebook is to show how Daimensions handles data created by a specified rule. Bertrand, the cofounder of Brainome, made this dataset, so the csv's are named after him."
   ]
  },
  {
   "cell_type": "code",
   "execution_count": 2,
   "metadata": {},
   "outputs": [
    {
     "name": "stdout",
     "output_type": "stream",
     "text": [
      "1,1,0,0,0,0,0,0,0,1,1\n",
      "1,1,1,0,0,1,0,1,0,1,0\n",
      "0,1,0,1,0,1,0,0,0,1,0\n",
      "0,0,1,1,0,1,0,1,0,1,1\n",
      "0,0,1,0,0,0,1,0,1,1,1\n",
      "0,0,1,1,1,1,0,0,1,1,0\n",
      "0,0,1,1,1,1,0,0,0,0,0\n",
      "0,0,1,0,0,1,1,0,1,1,1\n",
      "1,1,1,0,1,1,1,1,0,0,1\n",
      "0,0,0,0,1,0,1,0,0,1,1\n"
     ]
    }
   ],
   "source": [
    "%%bash\n",
    "head bertrandtrain.csv"
   ]
  },
  {
   "cell_type": "markdown",
   "metadata": {},
   "source": [
    "As you can see from above, this data doesn't have column names. Because of this, we have to use -headerless when measuring our data and building our model."
   ]
  },
  {
   "cell_type": "markdown",
   "metadata": {},
   "source": [
    "### Installing Brainome via Pip\n",
    "Simply run the cell below in order to install Brainome and be able to use it in terminal"
   ]
  },
  {
   "cell_type": "code",
   "execution_count": null,
   "metadata": {},
   "outputs": [],
   "source": [
    "# ! pip install brainome"
   ]
  },
  {
   "cell_type": "markdown",
   "metadata": {},
   "source": [
    "## 1. Get Measurements\n",
    "\n",
    "We always want to measure our data before building our predictor in order to ensure we are building the right model. For more information about how to use Daimensions and why we want to measure our data beforehand, check out the Titanic notebook."
   ]
  },
  {
   "cell_type": "code",
   "execution_count": 4,
   "metadata": {},
   "outputs": [
    {
     "name": "stdout",
     "output_type": "stream",
     "text": [
      "WARNING: Could not detect a GPU. Neural Network generation will be slow.\n",
      "\n",
      "\u001b[01;1mBrainome Table Compiler v1.005-7-prod\u001b[0m\n",
      "Copyright (c) 2019-2021 Brainome, Inc. All Rights Reserved.\n",
      "Licensed to:                 Alexander Makhratchev  (Evaluation)\n",
      "Expiration Date:             2021-08-31   32 days left\n",
      "Maximum File Size:           30 GB\n",
      "Maximum Instances:           unlimited\n",
      "Maximum Attributes:          unlimited\n",
      "Maximum Classes:             unlimited\n",
      "Connected to:                daimensions.brainome.ai  (local execution)\n",
      "\n",
      "\u001b[01;1mCommand:\u001b[0m\n",
      "    btc -measureonly bertrandtrain.csv -headerless\n",
      "\n",
      "Start Time:                 07/30/2021, 17:52 PDT\n",
      "\n",
      "Cleaning...done. \n",
      "Splitting into training and validation...done. \n",
      "Pre-training measurements...done. \n",
      "\n",
      "\n",
      "\u001b[01;1mPre-training Measurements\u001b[0m\n",
      "Data:\n",
      "    Input:                      bertrandtrain.csv (headerless csv)\n",
      "    Target Column:              target\n",
      "    Number of instances:      13187\n",
      "    Number of attributes:        10 out of 10\n",
      "    Number of classes:            2\n",
      "\n",
      "Class Balance:                \n",
      "                               1: 62.65%\n",
      "                               0: 37.35%\n",
      "\n",
      "Learnability:\n",
      "    Best guess accuracy:          62.65%\n",
      "    Data Sufficiency:             Not enough data to generalize. [red]\n",
      "\n",
      "Capacity Progression:             at [ 5%, 10%, 20%, 40%, 80%, 100% ]\n",
      "    Ideal Machine Learner:              9,  10,  11,  12,  12,  13\n",
      "\n",
      "\n",
      "\n",
      "\n",
      "Expected Generalization:\n",
      "    Decision Tree:              7952.45 bits/bit\n",
      "    Neural Network:               80.07 bits/bit\n",
      "    Random Forest:             13187.00 bits/bit\n",
      "\n",
      "Expected Accuracy:              Training            Validation\n",
      "    Decision Tree:                63.26%                63.25%\n",
      "    Neural Network:                 ----                  ----\n",
      "    Random Forest:               100.00%               100.00%\n",
      "\n",
      "Recommendations:\n",
      "    We recommend using Random Forest -f RF.\n",
      "    If predictor accuracy is insufficient, try using the option -rank to automatically select the important attributes.\n",
      "    If predictor accuracy is insufficient, try using the effort option -e with a value of 5 or more to increase training time. \n",
      "\n",
      "Time to Build Estimates:\n",
      "    Decision Tree:                less than a minute\n",
      "\n",
      "\n",
      "\n",
      "\n",
      "End Time:           07/30/2021, 17:52 PDT\n",
      "Runtime Duration:   18s\n",
      "\n"
     ]
    }
   ],
   "source": [
    "! brainome -measureonly bertrandtrain.csv -headerless"
   ]
  },
  {
   "cell_type": "markdown",
   "metadata": {},
   "source": [
    "## 2. Build the Predictor\n",
    "\n",
    "Based on our measurements, Daimensions recommends we use a neural network, which has 83.99 bits/bit of expected generalization for this dataset. Don't forget to use -headerless."
   ]
  },
  {
   "cell_type": "code",
   "execution_count": 5,
   "metadata": {},
   "outputs": [
    {
     "name": "stdout",
     "output_type": "stream",
     "text": [
      "WARNING: Could not detect a GPU. Neural Network generation will be slow.\n",
      "\n",
      "\u001b[01;1mBrainome Table Compiler v1.005-7-prod\u001b[0m\n",
      "Copyright (c) 2019-2021 Brainome, Inc. All Rights Reserved.\n",
      "Licensed to:                 Alexander Makhratchev  (Evaluation)\n",
      "Expiration Date:             2021-08-31   32 days left\n",
      "Maximum File Size:           30 GB\n",
      "Maximum Instances:           unlimited\n",
      "Maximum Attributes:          unlimited\n",
      "Maximum Classes:             unlimited\n",
      "Connected to:                daimensions.brainome.ai  (local execution)\n",
      "\n",
      "\u001b[01;1mCommand:\u001b[0m\n",
      "    btc -f NN bertrandtrain.csv -o bertrand_predict.py -headerless -e 10 --yes\n",
      "\n",
      "Start Time:                 07/30/2021, 17:54 PDT\n",
      "\n",
      "Cleaning...done. \n",
      "Splitting into training and validation...done. \n",
      "Pre-training measurements...done. \n",
      "\n",
      "\n",
      "\u001b[01;1mPre-training Measurements\u001b[0m\n",
      "Data:\n",
      "    Input:                      bertrandtrain.csv (headerless csv)\n",
      "    Target Column:              target\n",
      "    Number of instances:      13187\n",
      "    Number of attributes:        10 out of 10\n",
      "    Number of classes:            2\n",
      "\n",
      "Class Balance:                \n",
      "                               1: 62.65%\n",
      "                               0: 37.35%\n",
      "\n",
      "Learnability:\n",
      "    Best guess accuracy:          62.65%\n",
      "    Data Sufficiency:             Not enough data to generalize. [red]\n",
      "\n",
      "Capacity Progression:             at [ 5%, 10%, 20%, 40%, 80%, 100% ]\n",
      "    Ideal Machine Learner:              9,  10,  11,  12,  12,  13\n",
      "\n",
      "\n",
      "\n",
      "\n",
      "Expected Generalization:\n",
      "    Decision Tree:              7952.45 bits/bit\n",
      "    Neural Network:               80.07 bits/bit\n",
      "    Random Forest:             13187.00 bits/bit\n",
      "\n",
      "Expected Accuracy:              Training            Validation\n",
      "    Decision Tree:                63.26%                63.25%\n",
      "    Neural Network:                 ----                  ----\n",
      "    Random Forest:               100.00%               100.00%\n",
      "\n",
      "Recommendations:\n",
      "    We recommend using Random Forest -f RF.\n",
      "    If predictor accuracy is insufficient, try using the option -rank to automatically select the important attributes.\n",
      "    Model type NN given by user. \n",
      "\n",
      "\n",
      "Architecting model...done. \n",
      "Priming model...done. \n",
      "Training...done. \n",
      "Compiling predictor...done. \n",
      "Validating predictor...done. \n",
      "\n",
      "\u001b[01;1mPredictor:\u001b[0m                        bertrand_predict.py\n",
      "    Classifier Type:              Neural Network\n",
      "    System Type:                  Binary classifier\n",
      "    Training / Validation Split:  50% : 50%\n",
      "    Accuracy:\n",
      "      Best-guess accuracy:        62.65%\n",
      "      Training accuracy:         100.00% (6593/6593 correct)\n",
      "      Validation Accuracy:       100.00% (6594/6594 correct)\n",
      "      Combined Model Accuracy:   100.00% (13187/13187 correct)\n",
      "\n",
      "    Model Capacity (MEC):         49    bits\n",
      "\n",
      "    Generalization Ratio:        128.26 bits/bit\n",
      "    Percent of Data Memorized:     1.59%\n",
      "    Resilience to Noise:          -2.13 dB\n",
      "\n",
      "\n",
      "    Training Confusion Matrix:\n",
      "              Actual | Predicted\n",
      "              ------ | ---------\n",
      "                   1 |   4131      0 \n",
      "                   0 |      0   2462 \n",
      "\n",
      "    Validation Confusion Matrix:\n",
      "              Actual | Predicted\n",
      "              ------ | ---------\n",
      "                   1 |   4131      0 \n",
      "                   0 |      0   2463 \n",
      "\n",
      "    Training Accuracy by Class:\n",
      "              target |     TP     FP     TN     FN     TPR      TNR      PPV      NPV       F1       TS \n",
      "              ------ | ------ ------ ------ ------ -------- -------- -------- -------- -------- --------\n",
      "                   1 |   4131      0   2462      0  100.00%  100.00%  100.00%  100.00%  100.00%  100.00%\n",
      "                   0 |   2462      0   4131      0  100.00%  100.00%  100.00%  100.00%  100.00%  100.00%\n",
      "\n",
      "    Validation Accuracy by Class:\n",
      "              target |     TP     FP     TN     FN     TPR      TNR      PPV      NPV       F1       TS \n",
      "              ------ | ------ ------ ------ ------ -------- -------- -------- -------- -------- --------\n",
      "                   1 |   4131      0   2463      0  100.00%  100.00%  100.00%  100.00%  100.00%  100.00%\n",
      "                   0 |   2463      0   4131      0  100.00%  100.00%  100.00%  100.00%  100.00%  100.00%\n",
      "\n",
      "\n",
      "\n",
      "\n",
      "\n",
      "\n",
      "End Time:           07/30/2021, 18:00 PDT\n",
      "Runtime Duration:   6m 25s\n",
      "\n"
     ]
    }
   ],
   "source": [
    "! brainome -f NN bertrandtrain.csv -o bertrand_predict.py -headerless -e 10 --yes"
   ]
  },
  {
   "cell_type": "markdown",
   "metadata": {},
   "source": [
    "## 3. Make a Prediction\n",
    "\n",
    "Hooray! Our model has 100% accuracy. Now we can use our model to make predictions on test data, a separate set of data that wasn't used for training."
   ]
  },
  {
   "cell_type": "code",
   "execution_count": 6,
   "metadata": {},
   "outputs": [
    {
     "name": "stdout",
     "output_type": "stream",
     "text": [
      "0,0,1,1,0,1,1,0,0,0,Prediction\n",
      "1,0,0,0,1,0,0,1,1,0,0\n",
      "0,0,1,1,1,0,0,1,0,0,0\n",
      "1,0,0,0,1,1,0,0,1,1,0\n",
      "1,1,0,1,1,0,1,1,1,1,1\n",
      "0,0,0,0,0,1,1,0,0,1,0\n",
      "0,0,0,0,1,1,1,0,1,1,1\n",
      "0,1,0,0,0,0,1,0,1,0,1\n",
      "0,1,1,1,1,1,0,0,1,0,0\n",
      "0,1,0,1,0,0,0,1,0,1,0\n"
     ]
    }
   ],
   "source": [
    "! python3 bertrand_predict.py bertrandtest.csv > bertrand_prediction.csv\n",
    "! head bertrand_prediction.csv"
   ]
  },
  {
   "cell_type": "code",
   "execution_count": null,
   "metadata": {},
   "outputs": [],
   "source": []
  }
 ],
 "metadata": {
  "kernelspec": {
   "display_name": "Python 3.8.5 64-bit ('project04': conda)",
   "name": "python385jvsc74a57bd01d3871b7240f9d75f2b8bd1df158850b1c5213e7429c05b0ce33a40fde6f14cf"
  },
  "language_info": {
   "name": "python",
   "version": ""
  },
  "metadata": {
   "interpreter": {
    "hash": "1d3871b7240f9d75f2b8bd1df158850b1c5213e7429c05b0ce33a40fde6f14cf"
   }
  }
 },
 "nbformat": 4,
 "nbformat_minor": 2
}