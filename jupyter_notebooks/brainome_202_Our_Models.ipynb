{
 "cells": [
  {
   "cell_type": "markdown",
   "id": "327c4245",
   "metadata": {},
   "source": [
    "# Brainome University 202 Our Models\n",
    "We have three types of classification models\n",
    "* Decision Tree\n",
    "* Random Forest\n",
    "* Neural Network"
   ]
  },
  {
   "cell_type": "markdown",
   "id": "033ca02a",
   "metadata": {},
   "source": [
    "## Setup\n",
    "Install brainome and download a titanic data set (identical to brainome_101_Quick_Start)."
   ]
  },
  {
   "cell_type": "code",
   "execution_count": null,
   "id": "4e4e713a",
   "metadata": {},
   "outputs": [],
   "source": [
    "# pip install brainome \n",
    "import sys\n",
    "!{sys.executable} -m pip -q install --upgrade brainome\n",
    "!wget -Nq https://download.brainome.ai/data/public/titanic_train.csv\n",
    "!wget -Nq https://download.brainome.ai/data/public/titanic_validate.csv"
   ]
  },
  {
   "cell_type": "markdown",
   "id": "92642d4c",
   "metadata": {},
   "source": [
    "## Building a Decision Tree"
   ]
  },
  {
   "cell_type": "code",
   "execution_count": null,
   "id": "a5e1b94b",
   "metadata": {},
   "outputs": [],
   "source": [
    "!brainome titanic_train.csv -modelonly -y -rank -o predictor.py -f DT"
   ]
  },
  {
   "cell_type": "markdown",
   "id": "98296034",
   "metadata": {},
   "source": [
    "## Building a Random Forest"
   ]
  },
  {
   "cell_type": "code",
   "execution_count": null,
   "id": "764211fe",
   "metadata": {},
   "outputs": [],
   "source": [
    "!brainome titanic_train.csv -modelonly -y -rank -o predictor.py -f RF"
   ]
  },
  {
   "cell_type": "markdown",
   "id": "c3afdd24",
   "metadata": {},
   "source": [
    "## Building a Neural Network"
   ]
  },
  {
   "cell_type": "code",
   "execution_count": null,
   "id": "c18e874e",
   "metadata": {},
   "outputs": [],
   "source": [
    "!brainome titanic_train.csv -modelonly -y -rank -o predictor.py -f NN"
   ]
  },
  {
   "cell_type": "markdown",
   "id": "1e805445",
   "metadata": {},
   "source": [
    "## Next Steps\n",
    "Check out [Brainome 203 Using a Predictor](./brainome_203_Using_a_Predictor.ipynb)"
   ]
  }
 ],
 "metadata": {
  "kernelspec": {
   "display_name": "Python 3 (ipykernel)",
   "language": "python",
   "name": "python3"
  },
  "language_info": {
   "codemirror_mode": {
    "name": "ipython",
    "version": 3
   },
   "file_extension": ".py",
   "mimetype": "text/x-python",
   "name": "python",
   "nbconvert_exporter": "python",
   "pygments_lexer": "ipython3",
   "version": "3.9.6"
  }
 },
 "nbformat": 4,
 "nbformat_minor": 5
}
