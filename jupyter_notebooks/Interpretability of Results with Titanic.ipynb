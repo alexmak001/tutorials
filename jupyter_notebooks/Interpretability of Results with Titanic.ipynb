{
 "cells": [
  {
   "cell_type": "markdown",
   "metadata": {},
   "source": [
    "# Titanic Using Daimensions\n",
    "\n",
    "This notebook uses data from the Titanic competition on Kaggle (https://www.kaggle.com/c/titanic/overview).\n",
    "\n",
    "Kaggle's description of the competition:\n",
    "\"The sinking of the Titanic is one of the most infamous shipwrecks in history. On April 15, 1912, during her maiden voyage, the widely considered 'unsinkable' RMS Titanic sank after colliding with an iceberg. Unfortunately, there weren’t enough lifeboats for everyone onboard, resulting in the death of 1502 out of 2224 passengers and crew.\n",
    "While there was some element of luck involved in surviving, it seems some groups of people were more likely to survive than others. In this challenge, we ask you to build a predictive model that answers the question: 'what sorts of people were more likely to survive?' using passenger data (ie name, age, gender, socio-economic class, etc).\"\n",
    "\n",
    "Goal: Make a predictor of survival from Titanic training data. We'll do this by using Daimensions to measure, build, and validate a predictor."
   ]
  },
  {
   "cell_type": "markdown",
   "metadata": {},
   "source": [
    "## 0. Getting Started\n",
    "\n",
    "Because this is the very first tutorial, we'll go over how to install btc and get started. You can also see how to setup btc in the Daimensions Quickstart guide.\n",
    "\n",
    "First, use the following link to download the installation script: https://download.brainome.net/btc-cli/btc-setup.sh. From the download directory, run the following bash command."
   ]
  },
  {
   "cell_type": "code",
   "execution_count": 1,
   "metadata": {},
   "outputs": [
    {
     "name": "stdout",
     "output_type": "stream",
     "text": [
      "sh: btc-setup.sh: No such file or directory\n"
     ]
    }
   ],
   "source": [
    "! sh btc-setup.sh"
   ]
  },
  {
   "cell_type": "markdown",
   "metadata": {},
   "source": [
    "The script will check that your operating system is supported, download the latest btc client to your machine and install it in /usr/local/bin. You will be prompted to enter the administrator password to install the software. \n",
    "*NOTE: After installation, make sure that “/usr/local/bin” is in your search path. *\n",
    "\n",
    "Next, run the following command to wipe all cloud files. You will need your user credentials to login to DaimensionsTM. The first time you login, your license key will be downloaded automatically. Please use the default password that was provided to you. "
   ]
  },
  {
   "cell_type": "code",
   "execution_count": null,
   "metadata": {},
   "outputs": [],
   "source": [
    "! btc WIPE"
   ]
  },
  {
   "cell_type": "markdown",
   "metadata": {},
   "source": [
    "To change your password, use the following bash command."
   ]
  },
  {
   "cell_type": "code",
   "execution_count": null,
   "metadata": {},
   "outputs": [],
   "source": [
    "! btc CHPASSWD"
   ]
  },
  {
   "cell_type": "markdown",
   "metadata": {},
   "source": [
    "## 1. Get Measurements\n",
    "\n",
    "Measuring our data before building a predictor is important in order to avoid mistakes and optimize our model. If we don't measure our data, we have no way of knowing whether the predictor we build will actually do what we want it to do when it sees new data that it wasn’t trained on. We'll probably build a model that is much larger than it needs to be, meaning our training and run times will probably be much longer than they need to be. We could end up in a situation where we just don’t know whether we have the right amount or right type of training data, even after extensive training and testing. Because of these reasons, it's best to measure our data beforehand. Not to mention, Daimensions will tell us about learnability, the generalization ratio, noise resilience, and all the standard accuracy and confusion figures. \n",
    "For more information, you can read the Daimensions How-to Guide and Glossary."
   ]
  },
  {
   "cell_type": "code",
   "execution_count": 2,
   "metadata": {},
   "outputs": [
    {
     "name": "stdout",
     "output_type": "stream",
     "text": [
      "\n",
      "\n",
      "\n",
      "\n",
      "\n",
      "\n",
      "\n",
      "\n",
      "\n",
      "\n"
     ]
    }
   ],
   "source": [
    "# Below is a clip of the training data:\n",
    "! head titanic_train.csv\n",
    "# For Windows command prompt:\n",
    "# type titanic_train.csv | more"
   ]
  },
  {
   "cell_type": "markdown",
   "metadata": {},
   "source": [
    "As you can see from above, the target column (Survived) isn't the last column on the right. Because of this, we need to use '-target' so that Daimensions is looking at the correct target column for measuring and building a predictor."
   ]
  },
  {
   "cell_type": "code",
   "execution_count": 3,
   "metadata": {},
   "outputs": [
    {
     "name": "stdout",
     "output_type": "stream",
     "text": [
      "WARNING: Could not detect a GPU. Neural Network generation will be slow.\n",
      "\n",
      "\u001b[01;1mBrainome Table Compiler v1.005-7-prod\u001b[0m\n",
      "Copyright (c) 2019-2021 Brainome, Inc. All Rights Reserved.\n",
      "Licensed to:                 Alexander Makhratchev  (Evaluation)\n",
      "Expiration Date:             2021-08-31   29 days left\n",
      "Maximum File Size:           30 GB\n",
      "Maximum Instances:           unlimited\n",
      "Maximum Attributes:          unlimited\n",
      "Maximum Classes:             unlimited\n",
      "Connected to:                daimensions.brainome.ai  (local execution)\n",
      "\n",
      "\u001b[01;1mCommand:\u001b[0m\n",
      "    btc -measureonly titanic_train.csv -target Survived\n",
      "\n",
      "Start Time:                 08/02/2021, 13:15 PDT\n",
      "\n",
      "Cleaning...done. \n",
      "Splitting into training and validation...done. \n",
      "Pre-training measurements...done. \n",
      "\n",
      "\n",
      "\u001b[01;1mPre-training Measurements\u001b[0m\n",
      "Data:\n",
      "    Input:                      titanic_train.csv\n",
      "    Target Column:              Survived\n",
      "    Number of instances:        891\n",
      "    Number of attributes:        11 out of 11\n",
      "    Number of classes:            2\n",
      "\n",
      "Class Balance:                \n",
      "                               0: 61.62%\n",
      "                               1: 38.38%\n",
      "\n",
      "Learnability:\n",
      "    Best guess accuracy:          61.62%\n",
      "    Data Sufficiency:             Maybe enough data to generalize. [yellow]\n",
      "\n",
      "Capacity Progression:             at [ 5%, 10%, 20%, 40%, 80%, 100% ]\n",
      "    Ideal Machine Learner:              6,   7,   8,   8,   9,   9\n",
      "\n",
      "\n",
      "\n",
      "\n",
      "Expected Generalization:\n",
      "    Decision Tree:                 2.07 bits/bit\n",
      "    Neural Network:                7.25 bits/bit\n",
      "    Random Forest:                10.61 bits/bit\n",
      "\n",
      "Expected Accuracy:              Training            Validation\n",
      "    Decision Tree:               100.00%                53.54%\n",
      "    Neural Network:                 ----                  ----\n",
      "    Random Forest:               100.00%                81.17%\n",
      "\n",
      "Recommendations:\n",
      "    Warning: Data has high information density. Using effort 5 and larger ( -e 5 ) can improve results.\n",
      "    We recommend using Random Forest -f RF.\n",
      "    If predictor accuracy is insufficient, try using the option -rank to automatically select the important attributes.\n",
      "    If predictor accuracy is insufficient, try using the effort option -e with a value of 5 or more to increase training time. \n",
      "\n",
      "Time to Build Estimates:\n",
      "    Decision Tree:                a few seconds\n",
      "\n",
      "\n",
      "\n",
      "\n",
      "End Time:           08/02/2021, 13:15 PDT\n",
      "Runtime Duration:   10s\n",
      "\n"
     ]
    }
   ],
   "source": [
    "# Measuring the training data:\n",
    "! brainome -measureonly titanic_train.csv -target Survived "
   ]
  },
  {
   "cell_type": "markdown",
   "metadata": {},
   "source": [
    "## 2. Build the Predictor\n",
    "\n",
    "Because the learnability of the data (based on capacity progression and risk) is yellow, the how-to guide recommends to choose predictor with higher generalization and increase effort for best results. This means using a neural network with effort should work best. Here, I'm using '-f NN' to make the predictor a neural network. I'm also using '-o predict.py' to output the predictor as a python file. To increase the effort, I'm using '-e 10' for 10 times the effort. Again, we have to use '-target Survived' because the target column isn't the last one."
   ]
  },
  {
   "cell_type": "code",
   "execution_count": 4,
   "metadata": {},
   "outputs": [
    {
     "name": "stdout",
     "output_type": "stream",
     "text": [
      "WARNING: Could not detect a GPU. Neural Network generation will be slow.\n",
      "\n",
      "\u001b[01;1mBrainome Table Compiler v1.005-7-prod\u001b[0m\n",
      "Copyright (c) 2019-2021 Brainome, Inc. All Rights Reserved.\n",
      "Licensed to:                 Alexander Makhratchev  (Evaluation)\n",
      "Expiration Date:             2021-08-31   29 days left\n",
      "Maximum File Size:           30 GB\n",
      "Maximum Instances:           unlimited\n",
      "Maximum Attributes:          unlimited\n",
      "Maximum Classes:             unlimited\n",
      "Connected to:                daimensions.brainome.ai  (local execution)\n",
      "\n",
      "\u001b[01;1mCommand:\u001b[0m\n",
      "    btc -v -v -f NN titanic_train.csv -o titanic_predict.py -target Survived --yes\n",
      "\n",
      "Start Time:                 08/02/2021, 13:15 PDT\n",
      "\n",
      "Cleaning...done. < 1s\n",
      "Splitting into training and validation...done. < 1s\n",
      "Pre-training measurements...done. 6s\n",
      "\n",
      "\n",
      "\u001b[01;1mPre-training Measurements\u001b[0m\n",
      "Data:\n",
      "    Input:                      titanic_train.csv\n",
      "    Target Column:              Survived\n",
      "    Number of instances:        891\n",
      "    Number of attributes:        11 out of 11\n",
      "    Number of classes:            2\n",
      "\n",
      "Class Balance:                \n",
      "                               0: 61.62%\n",
      "                               1: 38.38%\n",
      "\n",
      "Learnability:\n",
      "    Best guess accuracy:          61.62%\n",
      "    Data Sufficiency:             Maybe enough data to generalize. [yellow]\n",
      "\n",
      "Capacity Progression:             at [ 5%, 10%, 20%, 40%, 80%, 100% ]\n",
      "    Ideal Machine Learner:              6,   7,   8,   8,   9,   9\n",
      "\n",
      "Estimated Memory Equivalent Capacity:\n",
      "    Decision Tree:               414 bits\n",
      "    Neural Networks:             118 bits\n",
      "    Random Forest:                84 bits\n",
      "\n",
      "\n",
      "Percent of data that would be memorized:\n",
      "    Decision Tree:                98.23%\n",
      "    Neural Networks:             100.00%\n",
      "    Random Forest:                50.00%\n",
      "\n",
      "\n",
      "Expected Generalization:\n",
      "    Decision Tree:                 2.07 bits/bit\n",
      "    Neural Network:                7.25 bits/bit\n",
      "    Random Forest:                10.61 bits/bit\n",
      "\n",
      "Expected Accuracy:              Training            Validation\n",
      "    Decision Tree:               100.00%                53.54%\n",
      "    Neural Network:                 ----                  ----\n",
      "    Random Forest:               100.00%                81.17%\n",
      "\n",
      "Recommendations:\n",
      "    Warning: Data has high information density. Using effort 5 and larger ( -e 5 ) can improve results.\n",
      "    We recommend using Random Forest -f RF.\n",
      "    If predictor accuracy is insufficient, try using the option -rank to automatically select the important attributes.\n",
      "    If predictor accuracy is insufficient, try using the effort option -e with a value of 5 or more to increase training time.\n",
      "    Model type NN given by user. \n",
      "\n",
      "\n",
      "Architecting model...done. 5s\n",
      "Priming model...done. 2m 45s\n",
      "Model created:\n",
      "Sequential(\n",
      "  (0): Linear(in_features=11, out_features=2, bias=True)\n",
      "  (1): ReLU()\n",
      "  (2): Linear(in_features=2, out_features=1, bias=True)\n",
      ")\n",
      "\n",
      "Compiling predictor...done. < 1s\n",
      "Validating predictor...done. 3s\n",
      "\n",
      "\u001b[01;1mPredictor:\u001b[0m                        titanic_predict.py\n",
      "    Classifier Type:              Neural Network\n",
      "    System Type:                  Binary classifier\n",
      "    Training / Validation Split:  50% : 50%\n",
      "    Accuracy:\n",
      "      Best-guess accuracy:        61.62%\n",
      "      Training accuracy:          80.00% (356/445 correct)\n",
      "      Validation Accuracy:        79.14% (353/446 correct)\n",
      "      Combined Model Accuracy:    79.57% (709/891 correct)\n",
      "\n",
      "    Model Capacity (MEC):         27    bits\n",
      "\n",
      "    Generalization Ratio:         12.67 bits/bit\n",
      "    Percent of Data Memorized:    16.04%\n",
      "    Resilience to Noise:          -1.12 dB\n",
      "    System Meter Runtime Duration:    3s\n",
      "\n",
      "    Training Confusion Matrix:\n",
      "              Actual | Predicted\n",
      "              ------ | ---------\n",
      "                   0 |  235   39 \n",
      "                   1 |   50  121 \n",
      "\n",
      "    Validation Confusion Matrix:\n",
      "              Actual | Predicted\n",
      "              ------ | ---------\n",
      "                   0 |  233   42 \n",
      "                   1 |   51  120 \n",
      "\n",
      "    Combined Confusion Matrix:\n",
      "              Actual | Predicted\n",
      "              ------ | ---------\n",
      "                   0 |  468   81 \n",
      "                   1 |  101  241 \n",
      "\n",
      "    Training Accuracy by Class:\n",
      "            Survived |   TP   FP   TN   FN     TPR      TNR      PPV      NPV       F1       TS \n",
      "            -------- | ---- ---- ---- ---- -------- -------- -------- -------- -------- --------\n",
      "                   0 |  235   50  121   39   85.77%   70.76%   82.46%   75.62%   84.08%   72.53%\n",
      "                   1 |  121   39  235   50   70.76%   85.77%   75.62%   82.46%   73.11%   57.62%\n",
      "\n",
      "    Validation Accuracy by Class:\n",
      "            Survived |   TP   FP   TN   FN     TPR      TNR      PPV      NPV       F1       TS \n",
      "            -------- | ---- ---- ---- ---- -------- -------- -------- -------- -------- --------\n",
      "                   0 |  233   51  120   42   84.73%   70.18%   82.04%   74.07%   83.36%   71.47%\n",
      "                   1 |  120   42  233   51   70.18%   84.73%   74.07%   82.04%   72.07%   56.34%\n",
      "\n",
      "    Combined Accuracy by Class:\n",
      "            Survived |   TP   FP   TN   FN     TPR      TNR      PPV      NPV       F1       TS \n",
      "            -------- | ---- ---- ---- ---- -------- -------- -------- -------- -------- --------\n",
      "                   0 |  468  101  241   81   85.25%   70.47%   82.25%   74.84%   83.72%   72.00%\n",
      "                   1 |  241   81  468  101   70.47%   85.25%   74.84%   82.25%   72.59%   56.97%\n",
      "\n",
      "\n",
      "\n",
      "\n",
      "\n",
      "End Time:           08/02/2021, 13:18 PDT\n",
      "Runtime Duration:   3m 3s\n",
      "\n"
     ]
    }
   ],
   "source": [
    "# Building the predictor and outputting it to 'titanic_predict.py':\n",
    "! brainome -v -v -f NN titanic_train.csv -o titanic_predict.py -target Survived --yes"
   ]
  },
  {
   "cell_type": "markdown",
   "metadata": {},
   "source": [
    "## 3. Validate and Make Predictions\n",
    "\n",
    "We've built our first predictor! Now it's time to put it to use. In the case of Titanic, we are given test data from Kaggle, where it's different from the training data and doesn't include 'Survival'. We can use the model we built to make predictions for the test data and submit it to Kaggle for its competition. In the following code, I'll save the model's prediction in 'titanic_prediction.csv'. You will see that the predictor appended the model's prediction of survival as the last column. "
   ]
  },
  {
   "cell_type": "code",
   "execution_count": 5,
   "metadata": {},
   "outputs": [
    {
     "name": "stdout",
     "output_type": "stream",
     "text": [
      "PassengerId,Pclass,Name,Sex,Age,SibSp,Parch,Ticket,Fare,Cabin,Embarked,Prediction\n",
      "892,3,\"Kelly, Mr. James\",male,34.5,0,0,330911,7.8292,,Q,0\n",
      "893,3,\"Wilkes, Mrs. James (Ellen Needs)\",female,47,1,0,363272,7,,S,0\n",
      "894,2,\"Myles, Mr. Thomas Francis\",male,62,0,0,240276,9.6875,,Q,0\n",
      "895,3,\"Wirz, Mr. Albert\",male,27,0,0,315154,8.6625,,S,0\n",
      "896,3,\"Hirvonen, Mrs. Alexander (Helga E Lindqvist)\",female,22,1,1,3101298,12.2875,,S,1\n",
      "897,3,\"Svensson, Mr. Johan Cervin\",male,14,0,0,7538,9.225,,S,0\n",
      "898,3,\"Connolly, Miss. Kate\",female,30,0,0,330972,7.6292,,Q,1\n",
      "899,2,\"Caldwell, Mr. Albert Francis\",male,26,1,1,248738,29,,S,0\n",
      "900,3,\"Abrahim, Mrs. Joseph (Sophie Halaut Easu)\",female,18,0,0,2657,7.2292,,C,1\n"
     ]
    }
   ],
   "source": [
    "# Using predictor on test data and saving it to 'titanic_prediction.csv':\n",
    "! python3 titanic_predict.py titanic_test.csv > titanic_prediction.csv\n",
    "! head titanic_prediction.csv"
   ]
  },
  {
   "cell_type": "markdown",
   "metadata": {},
   "source": [
    "If you have validation data, or data that has the target column but wasn't used for training, you can use it to validate the accuracy of your predictor, as we will do. For this particular instance, I found an annotated version of the Titanic test data, 'titanic_validation.csv', and used it to validate our model."
   ]
  },
  {
   "cell_type": "code",
   "execution_count": 6,
   "metadata": {},
   "outputs": [
    {
     "name": "stdout",
     "output_type": "stream",
     "text": [
      "Classifier Type:                    Neural Network\n",
      "System Type:                        2-way classifier\n",
      "\n",
      "Accuracy:\n",
      "    Best-guess accuracy:            62.20%\n",
      "    Model accuracy:                 72.96% (305/418 correct)\n",
      "    Improvement over best guess:    10.76% (of possible 37.8%)\n",
      "\n",
      "Model capacity (MEC):               27 bits\n",
      "Generalization ratio:               10.80 bits/bit\n",
      "\n",
      "Confusion Matrix:\n",
      "\n",
      "      Actual |Predicted\n",
      "    ------------------\n",
      "           0 |198  62\n",
      "           1 | 51 107\n",
      "\n",
      "Accuracy by Class:\n",
      "\n",
      "      target |  TP FP  TN FN     TPR     TNR     PPV     NPV      F1      TS\n",
      "    -------- | --- -- --- -- ------- ------- ------- ------- ------- -------\n",
      "           0 | 198 51 107 62  76.15%  67.72%  79.52%  63.31%  77.80%  63.67%\n",
      "           1 | 107 62 198 51  67.72%  76.15%  63.31%  79.52%  65.44%  48.64%\n"
     ]
    }
   ],
   "source": [
    "# To validate:\n",
    "! python3 titanic_predict.py -validate titanic_validation.csv"
   ]
  },
  {
   "cell_type": "markdown",
   "metadata": {},
   "source": [
    "From validating the predictor, we can see that it has 74.64% accuracy, 12.44% better than best-guess accuracy (which classifies all data points as the majority class). "
   ]
  },
  {
   "cell_type": "markdown",
   "metadata": {},
   "source": [
    "## 4. Improving Our Model\n",
    "\n",
    "Our model did pretty well, but let's see if we can improve it. A column that contains a unique value in each row (for example a database key) will never contribute to generalization, so we shouldn't include database keys or other unique ID columns. We can remove these columns by using '-ignorecolumns'. We'll try ignoring columns: PassengerId, Name, Ticket, Cabin, Embarked, because they're all unique ID columns. We could also use '-rank' to rank columns by significance and only process contributing attributes.\n",
    "\n",
    "### Ignorecolumns vs Rank:\n",
    "There may be situations where domain knowledge suggests a better choice of features than -rank. If we know the data generative process, we can do better with -ignorecolumns than with -rank. Rank is also optimizing for quick clustering/decision tree. For neural networks, we may still wish to reduce input features, which can be done with pca, but at the cost of interpretability. Some applications may require the original features are used in which case pca isn't viable. Ignorecolumns can reduce features while maintaining interpretability and work better for neural networks than -rank may, but the burden of choosing the right columns to keep is now on us."
   ]
  },
  {
   "cell_type": "markdown",
   "metadata": {},
   "source": [
    "### Using -ignorecolumns:"
   ]
  },
  {
   "cell_type": "code",
   "execution_count": 7,
   "metadata": {},
   "outputs": [
    {
     "name": "stdout",
     "output_type": "stream",
     "text": [
      "WARNING: Could not detect a GPU. Neural Network generation will be slow.\n",
      "\n",
      "\u001b[01;1mBrainome Table Compiler v1.005-7-prod\u001b[0m\n",
      "Copyright (c) 2019-2021 Brainome, Inc. All Rights Reserved.\n",
      "Licensed to:                 Alexander Makhratchev  (Evaluation)\n",
      "Expiration Date:             2021-08-31   29 days left\n",
      "Maximum File Size:           30 GB\n",
      "Maximum Instances:           unlimited\n",
      "Maximum Attributes:          unlimited\n",
      "Maximum Classes:             unlimited\n",
      "Connected to:                daimensions.brainome.ai  (local execution)\n",
      "\n",
      "\u001b[01;1mCommand:\u001b[0m\n",
      "    btc -v -v -f NN titanic_train.csv -o titanic_predict_igcol.py -target Survived -ignorecolumns PassengerId,Name,Ticket,Cabin,Embarked -e 10 --yes\n",
      "\n",
      "Start Time:                 08/02/2021, 13:18 PDT\n",
      "\n",
      "Cleaning...done. < 1s\n",
      "Splitting into training and validation...done. < 1s\n",
      "Pre-training measurements...done. 4s\n",
      "\n",
      "\n",
      "\u001b[01;1mPre-training Measurements\u001b[0m\n",
      "Data:\n",
      "    Input:                      titanic_train.csv\n",
      "    Target Column:              Survived\n",
      "    Number of instances:        891\n",
      "    Number of attributes:         6 out of 11\n",
      "    Number of classes:            2\n",
      "\n",
      "Class Balance:                \n",
      "                               0: 61.62%\n",
      "                               1: 38.38%\n",
      "\n",
      "Learnability:\n",
      "    Best guess accuracy:          61.62%\n",
      "    Data Sufficiency:             Not enough data to generalize. [red]\n",
      "\n",
      "Capacity Progression:             at [ 5%, 10%, 20%, 40%, 80%, 100% ]\n",
      "    Ideal Machine Learner:              6,   6,   7,   8,   8,   9\n",
      "\n",
      "Estimated Memory Equivalent Capacity:\n",
      "    Decision Tree:               224 bits\n",
      "    Neural Networks:              73 bits\n",
      "    Random Forest:                91 bits\n",
      "\n",
      "\n",
      "Percent of data that would be memorized:\n",
      "    Decision Tree:                55.32%\n",
      "    Neural Networks:             100.00%\n",
      "    Random Forest:                47.64%\n",
      "\n",
      "\n",
      "\n",
      "    Decision Tree:                 3.67 bits/bit\n",
      "    Neural Network:               11.73 bits/bit\n",
      "    Random Forest:                 9.79 bits/bit\n",
      "\n",
      "Expected Accuracy:              Training            Validation\n",
      "    Decision Tree:                96.07%                70.93%\n",
      "    Neural Network:                 ----                  ----\n",
      "    Random Forest:                98.88%                78.48%\n",
      "\n",
      "Recommendations:\n",
      "    We recommend using Random Forest -f RF.\n",
      "    If predictor accuracy is insufficient, try using the option -rank to automatically select the important attributes.\n",
      "    Model type NN given by user. \n",
      "\n",
      "\n",
      "Architecting model...done. 5s\n",
      "Priming model...done. 1m 10s\n",
      "Training...done. 5m 15s\n",
      "Model created:\n",
      "Sequential(\n",
      "  (0): Linear(in_features=6, out_features=2, bias=True)\n",
      "  (1): ReLU()\n",
      "  (2): Linear(in_features=2, out_features=1, bias=True)\n",
      ")\n",
      "\n",
      "Compiling predictor...done. < 1s\n",
      "Validating predictor...done. 2s\n",
      "\n",
      "\u001b[01;1mPredictor:\u001b[0m                        titanic_predict_igcol.py\n",
      "    Classifier Type:              Neural Network\n",
      "    System Type:                  Binary classifier\n",
      "    Training / Validation Split:  70% : 30%\n",
      "    Accuracy:\n",
      "      Best-guess accuracy:        61.62%\n",
      "      Training accuracy:          79.45% (495/623 correct)\n",
      "      Validation Accuracy:        84.70% (227/268 correct)\n",
      "      Combined Model Accuracy:    81.03% (722/891 correct)\n",
      "\n",
      "    Model Capacity (MEC):         17    bits\n",
      "\n",
      "    Generalization Ratio:         27.96 bits/bit\n",
      "    Percent of Data Memorized:     7.26%\n",
      "    Resilience to Noise:          -1.46 dB\n",
      "    System Meter Runtime Duration:    2s\n",
      "\n",
      "    Training Confusion Matrix:\n",
      "              Actual | Predicted\n",
      "              ------ | ---------\n",
      "                   0 |  344   40 \n",
      "                   1 |   88  151 \n",
      "\n",
      "    Validation Confusion Matrix:\n",
      "              Actual | Predicted\n",
      "              ------ | ---------\n",
      "                   0 |  152   13 \n",
      "                   1 |   28   75 \n",
      "\n",
      "    Combined Confusion Matrix:\n",
      "              Actual | Predicted\n",
      "              ------ | ---------\n",
      "                   0 |  496   53 \n",
      "                   1 |  116  226 \n",
      "\n",
      "    Training Accuracy by Class:\n",
      "            Survived |   TP   FP   TN   FN     TPR      TNR      PPV      NPV       F1       TS \n",
      "            -------- | ---- ---- ---- ---- -------- -------- -------- -------- -------- --------\n",
      "                   0 |  344   88  151   40   89.58%   63.18%   79.63%   79.06%   84.31%   72.88%\n",
      "                   1 |  151   40  344   88   63.18%   89.58%   79.06%   79.63%   70.23%   54.12%\n",
      "\n",
      "    Validation Accuracy by Class:\n",
      "            Survived |   TP   FP   TN   FN     TPR      TNR      PPV      NPV       F1       TS \n",
      "            -------- | ---- ---- ---- ---- -------- -------- -------- -------- -------- --------\n",
      "                   0 |  152   28   75   13   92.12%   72.82%   84.44%   85.23%   88.12%   78.76%\n",
      "                   1 |   75   13  152   28   72.82%   92.12%   85.23%   84.44%   78.53%   64.66%\n",
      "\n",
      "    Combined Accuracy by Class:\n",
      "            Survived |   TP   FP   TN   FN     TPR      TNR      PPV      NPV       F1       TS \n",
      "            -------- | ---- ---- ---- ---- -------- -------- -------- -------- -------- --------\n",
      "                   0 |  496  116  226   53   90.35%   66.08%   81.05%   81.00%   85.44%   74.59%\n",
      "                   1 |  226   53  496  116   66.08%   90.35%   81.00%   81.05%   72.79%   57.22%\n",
      "\n",
      "\n",
      "\n",
      "\n",
      "\n",
      "End Time:           08/02/2021, 13:25 PDT\n",
      "Runtime Duration:   6m 40s\n",
      "\n"
     ]
    }
   ],
   "source": [
    "# Using -ignorecolumns to make a better predictor:\n",
    "! brainome -v -v -f NN titanic_train.csv -o titanic_predict_igcol.py -target Survived -ignorecolumns PassengerId,Name,Ticket,Cabin,Embarked -e 10 --yes"
   ]
  },
  {
   "cell_type": "code",
   "execution_count": 18,
   "metadata": {},
   "outputs": [
    {
     "name": "stdout",
     "output_type": "stream",
     "text": [
      "PassengerId,Pclass,Name,Sex,Age,SibSp,Parch,Ticket,Fare,Cabin,Embarked,Prediction\n",
      "892,3,\"Kelly, Mr. James\",male,34.5,0,0,330911,7.8292,,Q,0\n",
      "893,3,\"Wilkes, Mrs. James (Ellen Needs)\",female,47,1,0,363272,7,,S,1\n",
      "894,2,\"Myles, Mr. Thomas Francis\",male,62,0,0,240276,9.6875,,Q,0\n",
      "895,3,\"Wirz, Mr. Albert\",male,27,0,0,315154,8.6625,,S,0\n",
      "896,3,\"Hirvonen, Mrs. Alexander (Helga E Lindqvist)\",female,22,1,1,3101298,12.2875,,S,1\n",
      "897,3,\"Svensson, Mr. Johan Cervin\",male,14,0,0,7538,9.225,,S,0\n",
      "898,3,\"Connolly, Miss. Kate\",female,30,0,0,330972,7.6292,,Q,1\n",
      "899,2,\"Caldwell, Mr. Albert Francis\",male,26,1,1,248738,29,,S,0\n",
      "900,3,\"Abrahim, Mrs. Joseph (Sophie Halaut Easu)\",female,18,0,0,2657,7.2292,,C,1\n"
     ]
    }
   ],
   "source": [
    "# Using the ignorecolumns predictor on test data and saving it to 'titanic_prediction_igcol.csv':\n",
    "! python3 titanic_predict_igcol.py titanic_test.csv > titanic_prediction_igcol.csv\n",
    "! head titanic_prediction_igcol.csv"
   ]
  },
  {
   "cell_type": "markdown",
   "metadata": {},
   "source": [
    "As we wanted, -ignorecolumns removed the PassengerId, Name, Ticket, Cabin, and Embarked attributes. Next, we can use -validate to check the accuracy of our new predictor."
   ]
  },
  {
   "cell_type": "code",
   "execution_count": 19,
   "metadata": {},
   "outputs": [
    {
     "name": "stdout",
     "output_type": "stream",
     "text": [
      "Classifier Type:                    Neural Network\n",
      "System Type:                        Binary classifier\n",
      "Best-guess accuracy:                62.20%\n",
      "Model accuracy:                     77.27% (323/418 correct)\n",
      "Improvement over best guess:        15.07% (of possible 37.8%)\n",
      "Model capacity (MEC):               1 bits\n",
      "Generalization ratio:               308.99 bits/bit\n",
      "Model efficiency:                   15.06%/parameter\n",
      "System behavior\n",
      "True Negatives:                     52.87% (221/418)\n",
      "True Positives:                     24.40% (102/418)\n",
      "False Negatives:                    13.40% (56/418)\n",
      "False Positives:                    9.33% (39/418)\n",
      "True Pos. Rate/Sensitivity/Recall:  0.65\n",
      "True Neg. Rate/Specificity:         0.85\n",
      "Precision:                          0.72\n",
      "F-1 Measure:                        0.68\n",
      "False Negative Rate/Miss Rate:      0.35\n",
      "Critical Success Index:             0.52\n",
      "Confusion Matrix:\n",
      " [52.87% 9.33%]\n",
      " [13.40% 24.40%]\n"
     ]
    }
   ],
   "source": [
    "# Validating the -ignorecolumns predictor\n",
    "! python3 titanic_predict_igcol.py -validate titanic_validation.csv"
   ]
  },
  {
   "cell_type": "markdown",
   "metadata": {},
   "source": [
    "Using -ignorecolumns has improved our accuracy to 77.27% from 74.64% originally."
   ]
  },
  {
   "cell_type": "markdown",
   "metadata": {},
   "source": [
    "### Using -rank:"
   ]
  },
  {
   "cell_type": "code",
   "execution_count": 8,
   "metadata": {},
   "outputs": [
    {
     "name": "stdout",
     "output_type": "stream",
     "text": [
      "WARNING: Could not detect a GPU. Neural Network generation will be slow.\n",
      "\n",
      "\u001b[01;1mBrainome Table Compiler v1.005-7-prod\u001b[0m\n",
      "Copyright (c) 2019-2021 Brainome, Inc. All Rights Reserved.\n",
      "Licensed to:                 Alexander Makhratchev  (Evaluation)\n",
      "Expiration Date:             2021-08-31   29 days left\n",
      "Maximum File Size:           30 GB\n",
      "Maximum Instances:           unlimited\n",
      "Maximum Attributes:          unlimited\n",
      "Maximum Classes:             unlimited\n",
      "Connected to:                daimensions.brainome.ai  (local execution)\n",
      "\n",
      "\u001b[01;1mCommand:\u001b[0m\n",
      "    btc -v -v -f NN titanic_train.csv -o titanic_predict_rank.py -target Survived -rank --yes -e 10\n",
      "\n",
      "Start Time:                 08/02/2021, 13:25 PDT\n",
      "\n",
      "Cleaning...done. < 1s\n",
      "Ranking attributes...done. 1s\n",
      "\n",
      "\u001b[01;1mAttribute Ranking:\u001b[0m\n",
      "    Columns selected:           Sex, SibSp, Parch, Pclass\n",
      "    Risk of coincidental column correlation:    0.0%\n",
      "    Ignoring columns:           PassengerId, Name, Age, Ticket, Fare, Cabin, Embarked\n",
      "    Test Accuracy Progression:\n",
      "                                          Sex :   78.56%\n",
      "                                        SibSp :   79.57% change   +1.01%\n",
      "                                        Parch :   80.25% change   +0.67%\n",
      "                                       Pclass :   80.81% change   +0.56%\n",
      "         \n",
      "Splitting into training and validation...done. < 1s\n",
      "Pre-training measurements...done. 2s\n",
      "\n",
      "\n",
      "\u001b[01;1mPre-training Measurements\u001b[0m\n",
      "Data:\n",
      "    Input:                      titanic_train.csv\n",
      "    Target Column:              Survived\n",
      "    Number of instances:        891\n",
      "    Number of attributes:         4 out of 11\n",
      "    Number of classes:            2\n",
      "\n",
      "Class Balance:                \n",
      "                               0: 61.62%\n",
      "                               1: 38.38%\n",
      "\n",
      "Learnability:\n",
      "    Best guess accuracy:          61.62%\n",
      "    Data Sufficiency:             Maybe enough data to generalize. [yellow]\n",
      "\n",
      "Capacity Progression:             at [ 5%, 10%, 20%, 40%, 80%, 100% ]\n",
      "    Ideal Machine Learner:              5,   6,   7,   7,   8,   8\n",
      "\n",
      "Estimated Memory Equivalent Capacity:\n",
      "    Decision Tree:                 1 bits\n",
      "    Neural Networks:              49 bits\n",
      "    Random Forest:                22 bits\n",
      "\n",
      "\n",
      "Percent of data that would be memorized:\n",
      "    Decision Tree:                 0.29%\n",
      "    Neural Networks:              89.09%\n",
      "    Random Forest:                12.29%\n",
      "\n",
      "\n",
      "Expected Generalization:\n",
      "    Decision Tree:               692.67 bits/bit\n",
      "    Neural Network:               17.47 bits/bit\n",
      "    Random Forest:                40.50 bits/bit\n",
      "\n",
      "Expected Accuracy:              Training            Validation\n",
      "    Decision Tree:                80.92%                80.81%\n",
      "    Neural Network:                 ----                  ----\n",
      "    Random Forest:                83.60%                78.70%\n",
      "\n",
      "Recommendations:\n",
      "    We recommend using Random Forest -f RF.\n",
      "    If predictor accuracy is insufficient, try using the option -rank to automatically select the important attributes.\n",
      "    Model type NN given by user. \n",
      "\n",
      "\n",
      "Architecting model...done. 5s\n",
      "Priming model...done. 20s\n",
      "Training...done. 3m\n",
      "Model created:\n",
      "Sequential(\n",
      "  (0): Linear(in_features=4, out_features=5, bias=True)\n",
      "  (1): ReLU()\n",
      "  (2): Linear(in_features=5, out_features=1, bias=True)\n",
      ")\n",
      "\n",
      "Compiling predictor...done. < 1s\n",
      "Validating predictor...done. 1s\n",
      "\n",
      "\u001b[01;1mPredictor:\u001b[0m                        titanic_predict_rank.py\n",
      "    Classifier Type:              Neural Network\n",
      "    System Type:                  Binary classifier\n",
      "    Training / Validation Split:  50% : 50%\n",
      "    Accuracy:\n",
      "      Best-guess accuracy:        61.62%\n",
      "      Training accuracy:          77.52% (345/445 correct)\n",
      "      Validation Accuracy:        84.52% (377/446 correct)\n",
      "      Combined Model Accuracy:    81.03% (722/891 correct)\n",
      "\n",
      "    Model Capacity (MEC):         31    bits\n",
      "\n",
      "    Generalization Ratio:         10.69 bits/bit\n",
      "    Percent of Data Memorized:    19.01%\n",
      "    Resilience to Noise:          -1.05 dB\n",
      "    System Meter Runtime Duration:    1s\n",
      "\n",
      "    Training Confusion Matrix:\n",
      "              Actual | Predicted\n",
      "              ------ | ---------\n",
      "                   0 |  241   33 \n",
      "                   1 |   67  104 \n",
      "\n",
      "    Validation Confusion Matrix:\n",
      "              Actual | Predicted\n",
      "              ------ | ---------\n",
      "                   0 |  252   23 \n",
      "                   1 |   46  125 \n",
      "\n",
      "    Combined Confusion Matrix:\n",
      "              Actual | Predicted\n",
      "              ------ | ---------\n",
      "                   0 |  493   56 \n",
      "                   1 |  113  229 \n",
      "\n",
      "    Training Accuracy by Class:\n",
      "            Survived |   TP   FP   TN   FN     TPR      TNR      PPV      NPV       F1       TS \n",
      "            -------- | ---- ---- ---- ---- -------- -------- -------- -------- -------- --------\n",
      "                   0 |  241   67  104   33   87.96%   60.82%   78.25%   75.91%   82.82%   70.67%\n",
      "                   1 |  104   33  241   67   60.82%   87.96%   75.91%   78.25%   67.53%   50.98%\n",
      "\n",
      "    Validation Accuracy by Class:\n",
      "            Survived |   TP   FP   TN   FN     TPR      TNR      PPV      NPV       F1       TS \n",
      "            -------- | ---- ---- ---- ---- -------- -------- -------- -------- -------- --------\n",
      "                   0 |  252   46  125   23   91.64%   73.10%   84.56%   84.46%   87.96%   78.50%\n",
      "                   1 |  125   23  252   46   73.10%   91.64%   84.46%   84.56%   78.37%   64.43%\n",
      "\n",
      "    Combined Accuracy by Class:\n",
      "            Survived |   TP   FP   TN   FN     TPR      TNR      PPV      NPV       F1       TS \n",
      "            -------- | ---- ---- ---- ---- -------- -------- -------- -------- -------- --------\n",
      "                   0 |  493  113  229   56   89.80%   66.96%   81.35%   80.35%   85.37%   74.47%\n",
      "                   1 |  229   56  493  113   66.96%   89.80%   80.35%   81.35%   73.05%   57.54%\n",
      "\n",
      "\n",
      "\n",
      "\n",
      "\n",
      "End Time:           08/02/2021, 13:28 PDT\n",
      "Runtime Duration:   3m 31s\n",
      "\n"
     ]
    }
   ],
   "source": [
    "# Using -rank to make a better predictor:\n",
    "! brainome -v -v -f NN titanic_train.csv -o titanic_predict_rank.py -target Survived -rank --yes -e 10"
   ]
  },
  {
   "cell_type": "code",
   "execution_count": 9,
   "metadata": {},
   "outputs": [
    {
     "name": "stdout",
     "output_type": "stream",
     "text": [
      "PassengerId,Pclass,Name,Sex,Age,SibSp,Parch,Ticket,Fare,Cabin,Embarked,Prediction\n",
      "892,3,\"Kelly, Mr. James\",male,34.5,0,0,330911,7.8292,,Q,0\n",
      "893,3,\"Wilkes, Mrs. James (Ellen Needs)\",female,47,1,0,363272,7,,S,1\n",
      "894,2,\"Myles, Mr. Thomas Francis\",male,62,0,0,240276,9.6875,,Q,0\n",
      "895,3,\"Wirz, Mr. Albert\",male,27,0,0,315154,8.6625,,S,0\n",
      "896,3,\"Hirvonen, Mrs. Alexander (Helga E Lindqvist)\",female,22,1,1,3101298,12.2875,,S,1\n",
      "897,3,\"Svensson, Mr. Johan Cervin\",male,14,0,0,7538,9.225,,S,0\n",
      "898,3,\"Connolly, Miss. Kate\",female,30,0,0,330972,7.6292,,Q,1\n",
      "899,2,\"Caldwell, Mr. Albert Francis\",male,26,1,1,248738,29,,S,0\n",
      "900,3,\"Abrahim, Mrs. Joseph (Sophie Halaut Easu)\",female,18,0,0,2657,7.2292,,C,1\n"
     ]
    }
   ],
   "source": [
    "# Using the rank predictor on test data and saving it to 'titanic_prediction_rank.csv':\n",
    "! python3 titanic_predict_rank.py titanic_test.csv > titanic_prediction_rank.csv\n",
    "! head titanic_prediction_rank.csv"
   ]
  },
  {
   "cell_type": "markdown",
   "metadata": {},
   "source": [
    "You can see that -rank decided to only look at the columns 'Sex','Parch' (Parent/child), and 'Fare'. This makes a lot of sense that the determining factors for survival on the Titanic were sex, how many parents or children they had on board, and how much their fare was. Seeing what attributes -rank chooses gives us powerful insight into understanding our data and its correlations."
   ]
  },
  {
   "cell_type": "code",
   "execution_count": 10,
   "metadata": {},
   "outputs": [
    {
     "name": "stdout",
     "output_type": "stream",
     "text": [
      "Classifier Type:                    Neural Network\n",
      "System Type:                        2-way classifier\n",
      "\n",
      "Accuracy:\n",
      "    Best-guess accuracy:            62.20%\n",
      "    Model accuracy:                 77.51% (324/418 correct)\n",
      "    Improvement over best guess:    15.31% (of possible 37.8%)\n",
      "\n",
      "Model capacity (MEC):               31 bits\n",
      "Generalization ratio:               10.00 bits/bit\n",
      "\n",
      "Confusion Matrix:\n",
      "\n",
      "      Actual |Predicted\n",
      "    ------------------\n",
      "           0 |220  40\n",
      "           1 | 54 104\n",
      "\n",
      "Accuracy by Class:\n",
      "\n",
      "      target |  TP FP  TN FN     TPR     TNR     PPV     NPV      F1      TS\n",
      "    -------- | --- -- --- -- ------- ------- ------- ------- ------- -------\n",
      "           0 | 220 54 104 40  84.62%  65.82%  80.29%  72.22%  82.40%  70.06%\n",
      "           1 | 104 40 220 54  65.82%  84.62%  72.22%  80.29%  68.87%  52.53%\n"
     ]
    }
   ],
   "source": [
    "# Validating the -rank predictor\n",
    "! python3 titanic_predict_rank.py -validate titanic_validation.csv"
   ]
  },
  {
   "cell_type": "markdown",
   "metadata": {},
   "source": [
    "With -rank, our accuracy is 76.79%, again, an improvement over our original 74.64%."
   ]
  },
  {
   "cell_type": "markdown",
   "metadata": {},
   "source": [
    "## 5. Next Steps\n",
    "\n",
    "Success! We've built our first predictor and used it to make predictions on the Titanic test data. From here, we can use our model on any new Titanic data or use other control options to try to improve our results even more.\n",
    "To check out some of the other control options, use '-h' to see the full list. You can also check out Brainome's How-to Guide and Glossary for more information."
   ]
  },
  {
   "cell_type": "code",
   "execution_count": 11,
   "metadata": {},
   "outputs": [
    {
     "name": "stdout",
     "output_type": "stream",
     "text": [
      "usage: brainome [-h] [-version] [-headerless] [-target TARGET]\n",
      "                [-ignorecolumns IGNORECOLUMNS] [-rank [ATTRIBUTERANK]]\n",
      "                [-measureonly] [-f FORCEMODEL] [-nosplit] [-split FORCESPLIT]\n",
      "                [-nsamples NSAMPLES] [-ignoreclasses IGNORELABELS]\n",
      "                [-usecolumns IMPORTANTCOLUMNS] [-o OUTPUT] [-v] [-q] [-y]\n",
      "                [-e EFFORT] [-biasmeter] [-novalidation] [-balance]\n",
      "                [-O OPTIMIZE] [-nofun] [-modelonly]\n",
      "                input [input ...]\n",
      "\n",
      "\u001b[01;30mBrainome Table Compiler (tm)  v1.005-7-prod\u001b[0m\n",
      "\n",
      "\u001b[01;1mRequired arguments\u001b[0m:\n",
      "  input                 Table as CSV files and/or URLs or Command above\n",
      "\n",
      "\u001b[01;1mOptional arguments\u001b[0m:\n",
      "  -h                    show this help message and exit\n",
      "  -version              show program's version number and exit\n",
      "\n",
      "\u001b[01;1mBasic options\u001b[0m:\n",
      "  -headerless           Headerless CSV input file.\n",
      "  -target TARGET        Specify target column by name or number. Default: last column of table.\n",
      "  -ignorecolumns IGNORECOLUMNS\n",
      "                        Comma-separated list of columns to ignore by name or number.\n",
      "  -rank [ATTRIBUTERANK]\n",
      "                        Select the optimal subset of columns for accuracy on held out data\n",
      "                        If optional parameter N is given, select the optimal N columns. Works best for DT.\n",
      "  -measureonly          Only output measurements, no predictor is built.\n",
      "  -f FORCEMODEL         Force model type: DT, NN, RF  Default: RF\n",
      "  -nosplit              Use all of the data for training. Default: dataset is split between training and validation.\n",
      "  -split FORCESPLIT     Pass it an integer between 50 and 90 telling forcing our system to use that percent of the data for training, and the rest for validation\n",
      "\n",
      "\u001b[01;1mIntermediate options\u001b[0m:\n",
      "  -nsamples NSAMPLES    Train only on a subset of N random samples of the dataset. Default: entire dataset.\n",
      "  -ignoreclasses IGNORELABELS\n",
      "                        Comma-separated list of classes to ignore.\n",
      "  -usecolumns IMPORTANTCOLUMNS\n",
      "                        Comma-separated list of columns by name or number used to build the predictor.\n",
      "  -o OUTPUT             Predictor filename. Default: a.py\n",
      "  -v                    Verbose output\n",
      "  -q                    Quiet operation.\n",
      "  -y                    Answers yes to all overwrite questions.\n",
      "\n",
      "\u001b[01;1mAdvanced options\u001b[0m:\n",
      "  -e EFFORT             Increase compute time to improve accuracy. 1=<EFFORT<100. Default: 1\n",
      "  -biasmeter            Measure model bias\n",
      "  -novalidation         Do not measure validation scores for created predictor.\n",
      "  -balance              Treat classes as if they were balanced (only active for NN).\n",
      "  -O OPTIMIZE           Maximize true positives towards a single class.\n",
      "  -nofun                Stop compilation if there are warnings.\n",
      "  -modelonly            Perform only the measurements needed to build the model.\n",
      "\n",
      "\u001b[01;1mExamples:\n",
      "\u001b[0mMeasure and build a random forest predictor for titanic\n",
      "\u001b[01;34m\tbrainome https://download.brainome.ai/data/public/titanic_train.csv \n",
      "\n",
      "\u001b[0mBuild a better predictor by ignoring columns:\n",
      "\u001b[01;34m\tbrainome titanic_train.csv -ignorecolumns \"PassengerId,Name\" -target Survived \n",
      "\n",
      "\u001b[0mAutomatically select the important columns by using ranking:\n",
      "\u001b[01;34m\tbrainome titanic_train.csv -rank -target Survived \n",
      "\n",
      "\u001b[0mBuild a neural network model with effort of 5:\n",
      "\u001b[01;34m\tbrainome titanic_train.csv -f NN -e 5 -target Survived\n",
      "\n",
      "\u001b[0mMeasure headerless dataset:\n",
      "\u001b[01;34m\tbrainome https://download.brainome.ai/data/public/bank.csv -headerless -measureonly\n",
      "\n",
      "\u001b[0mFull documentation can be found at https://www.brainome.ai/documentation\n",
      "\n",
      "\n",
      "\n",
      "\n"
     ]
    }
   ],
   "source": [
    "! brainome -h"
   ]
  },
  {
   "cell_type": "code",
   "execution_count": null,
   "metadata": {},
   "outputs": [],
   "source": []
  }
 ],
 "metadata": {
  "kernelspec": {
   "display_name": "Python 3.7.6 64-bit ('base': conda)",
   "name": "python376jvsc74a57bd0a876d5d129613f84737ac732b9dceeab4d5b6e46c5cd6a0b580a7fe744c52632"
  },
  "language_info": {
   "codemirror_mode": {
    "name": "ipython",
    "version": 3
   },
   "file_extension": ".py",
   "mimetype": "text/x-python",
   "name": "python",
   "nbconvert_exporter": "python",
   "pygments_lexer": "ipython3",
   "version": "3.7.6"
  }
 },
 "nbformat": 4,
 "nbformat_minor": 2
}