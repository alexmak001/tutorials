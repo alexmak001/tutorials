{
 "cells": [
  {
   "cell_type": "markdown",
   "id": "b86b5242",
   "metadata": {},
   "source": [
    "# Brainome University 203 Using a Predictor\n",
    "Brainome generates a lightweight human readable source code predictor in python."
   ]
  },
  {
   "cell_type": "markdown",
   "id": "abdc8ae0",
   "metadata": {},
   "source": [
    "## Setup brainome and data sets"
   ]
  },
  {
   "cell_type": "code",
   "execution_count": 11,
   "id": "a00318a9",
   "metadata": {},
   "outputs": [],
   "source": [
    "# pip install brainome \n",
    "import sys\n",
    "!{sys.executable} -m pip -q install --upgrade brainome pandas\n",
    "!wget -Nq https://download.brainome.ai/data/public/titanic_train.csv\n",
    "!wget -Nq https://download.brainome.ai/data/public/titanic_validate.csv\n",
    "!wget -Nq https://download.brainome.ai/data/public/titanic_predict.csv"
   ]
  },
  {
   "cell_type": "markdown",
   "id": "1d75967b",
   "metadata": {},
   "source": [
    "### Preview training data set"
   ]
  },
  {
   "cell_type": "code",
   "execution_count": 2,
   "id": "e4b37a00",
   "metadata": {
    "tags": [
     "output_scroll"
    ]
   },
   "outputs": [
    {
     "name": "stdout",
     "output_type": "stream",
     "text": [
      "PassengerId,Cabin_Class,Name,Sex,Age,Sibling_Spouse,Parent_Children,Ticket_Number,Fare,Cabin_Number,Port_of_Embarkation,Survived\n",
      "\n",
      "1,3,\"Braund, Mr. Owen Harris\",male,22,1,0,A/5 21171,7.25,,S,died\n",
      "\n",
      "2,1,\"Cumings, Mrs. John Bradley (Florence Briggs Thayer)\",female,38,1,0,PC 17599,71.2833,C85,C,survived\n",
      "\n",
      "3,3,\"Heikkinen, Miss. Laina\",female,26,0,0,STON/O2. 3101282,7.925,,S,survived\n",
      "\n",
      "4,1,\"Futrelle, Mrs. Jacques Heath (Lily May Peel)\",female,35,1,0,113803,53.1,C123,S,survived\n",
      "\n",
      "5,3,\"Allen, Mr. William Henry\",male,35,0,0,373450,8.05,,S,died\n",
      "\n",
      "6,3,\"Moran, Mr. James\",male,,0,0,330877,8.4583,,Q,died\n",
      "\n",
      "7,1,\"McCarthy, Mr. Timothy J\",male,54,0,0,17463,51.8625,E46,S,died\n",
      "\n",
      "8,3,\"Palsson, Master. Gosta Leonard\",male,2,3,1,349909,21.075,,S,died\n",
      "\n",
      "9,3,\"Johnson, Mrs. Oscar W (Elisabeth Vilhelmina Berg)\",female,27,0,2,347742,11.1333,,S,survived\n",
      "\n"
     ]
    }
   ],
   "source": [
    "with open('titanic_train.csv', 'r') as data:\n",
    "    for i in range(10):\n",
    "        print(data.readline())"
   ]
  },
  {
   "cell_type": "markdown",
   "id": "6485bfd8",
   "metadata": {},
   "source": [
    "## Generate a predictor.py from training data set"
   ]
  },
  {
   "cell_type": "code",
   "execution_count": 3,
   "id": "1e477e17",
   "metadata": {},
   "outputs": [
    {
     "name": "stdout",
     "output_type": "stream",
     "text": [
      "WARNING: Could not detect a GPU. Neural Network generation will be slow.\n",
      "\n",
      "\u001b[01;1mBrainome Table Compiler v1.005-7-prod\u001b[0m\n",
      "Copyright (c) 2019-2021 Brainome, Inc. All Rights Reserved.\n",
      "Licensed to:                 y Demo User  (Evaluation)\n",
      "Expiration Date:             2021-12-12   135 days left\n",
      "Maximum File Size:           100 MB\n",
      "Maximum Instances:           20000\n",
      "Maximum Attributes:          100\n",
      "Maximum Classes:             unlimited\n",
      "Connected to:                daimensions.brainome.ai  (local execution)\n",
      "\n",
      "\u001b[01;1mCommand:\u001b[0m\n",
      "    btc titanic_train.csv -modelonly -y -rank -o predictor.py\n",
      "\n",
      "Start Time:                 07/30/2021, 01:17 UTC\n",
      "\n",
      "Cleaning...done. \n",
      "Ranking attributes...done. \n",
      "\n",
      "\u001b[01;1mAttribute Ranking:\u001b[0m\n",
      "    Columns selected:           Sex, Sibling_Spouse, Parent_Children, Cabin_Class\n",
      "    Risk of coincidental column correlation:    0.0%\n",
      "    \n",
      "    Test Accuracy Progression:\n",
      "                                          Sex :   78.75%\n",
      "                               Sibling_Spouse :   79.62% change   +0.88%\n",
      "                              Parent_Children :   80.25% change   +0.62%\n",
      "                                  Cabin_Class :   80.88% change   +0.63%\n",
      "         \n",
      "Splitting into training and validation...done. \n",
      "Pre-training measurements...done. \n",
      "\n",
      "Building classifier...done. \n",
      "Compiling predictor...done. \n",
      "Validating predictor...done. \n",
      "\n",
      "\u001b[01;1mPredictor:\u001b[0m                        predictor.py\n",
      "    Classifier Type:              Random Forest\n",
      "    System Type:                  Binary classifier\n",
      "    Training / Validation Split:  50% : 50%\n",
      "    Accuracy:\n",
      "      Best-guess accuracy:        61.50%\n",
      "      Training accuracy:          82.00% (328/400 correct)\n",
      "      Validation Accuracy:        79.50% (318/400 correct)\n",
      "      Combined Model Accuracy:    80.75% (646/800 correct)\n",
      "\n",
      "    Model Capacity (MEC):         17    bits\n",
      "\n",
      "    Generalization Ratio:         18.55 bits/bit\n",
      "    Percent of Data Memorized:    10.95%\n",
      "    Resilience to Noise:          -1.29 dB\n",
      "\n",
      "\n",
      "    Training Confusion Matrix:\n",
      "              Actual | Predicted\n",
      "              ------ | ---------\n",
      "                died |  221   25 \n",
      "            survived |   47  107 \n",
      "\n",
      "    Validation Confusion Matrix:\n",
      "              Actual | Predicted\n",
      "              ------ | ---------\n",
      "                died |  217   29 \n",
      "            survived |   53  101 \n",
      "\n",
      "    Training Accuracy by Class:\n",
      "            Survived |   TP   FP   TN   FN     TPR      TNR      PPV      NPV       F1       TS \n",
      "            -------- | ---- ---- ---- ---- -------- -------- -------- -------- -------- --------\n",
      "                died |  221   47  107   25   89.84%   69.48%   82.46%   81.06%   85.99%   75.43%\n",
      "            survived |  107   25  221   47   69.48%   89.84%   81.06%   82.46%   74.83%   59.78%\n",
      "\n",
      "    Validation Accuracy by Class:\n",
      "            Survived |   TP   FP   TN   FN     TPR      TNR      PPV      NPV       F1       TS \n",
      "            -------- | ---- ---- ---- ---- -------- -------- -------- -------- -------- --------\n",
      "                died |  217   53  101   29   88.21%   65.58%   80.37%   77.69%   84.11%   72.58%\n",
      "            survived |  101   29  217   53   65.58%   88.21%   77.69%   80.37%   71.13%   55.19%\n",
      "\n",
      "\n",
      "    Attribute Ranking:\n",
      "                                      Feature | Relative Importance\n",
      "                                          Sex :   0.6698\n",
      "                                  Cabin_Class :   0.2146\n",
      "                              Parent_Children :   0.0622\n",
      "                               Sibling_Spouse :   0.0533\n",
      "         \n",
      "\n",
      "\n",
      "\n",
      "End Time:           07/30/2021, 01:17 UTC\n",
      "Runtime Duration:   8s\n",
      "\n"
     ]
    }
   ],
   "source": [
    "!brainome titanic_train.csv -modelonly -y -rank -o predictor.py"
   ]
  },
  {
   "cell_type": "markdown",
   "id": "7e454a14",
   "metadata": {},
   "source": [
    "## Preview validation data set"
   ]
  },
  {
   "cell_type": "code",
   "execution_count": 4,
   "id": "cddd2bdd",
   "metadata": {
    "tags": [
     "output_scroll"
    ]
   },
   "outputs": [
    {
     "name": "stdout",
     "output_type": "stream",
     "text": [
      "PassengerId,Cabin_Class,Name,Sex,Age,Sibling_Spouse,Parent_Children,Ticket_Number,Fare,Cabin_Number,Port_of_Embarkation,Survived\n",
      "\n",
      "801,2,\"Ponesell, Mr. Martin\",male,34,0,0,250647,13,,S,died\n",
      "\n",
      "802,2,\"Collyer, Mrs. Harvey (Charlotte Annie Tate)\",female,31,1,1,C.A. 31921,26.25,,S,survived\n",
      "\n",
      "803,1,\"Carter, Master. William Thornton II\",male,11,1,2,113760,120,B96 B98,S,survived\n",
      "\n",
      "804,3,\"Thomas, Master. Assad Alexander\",male,0.42,0,1,2625,8.5167,,C,survived\n",
      "\n",
      "805,3,\"Hedman, Mr. Oskar Arvid\",male,27,0,0,347089,6.975,,S,survived\n",
      "\n",
      "806,3,\"Johansson, Mr. Karl Johan\",male,31,0,0,347063,7.775,,S,died\n",
      "\n",
      "807,1,\"Andrews, Mr. Thomas Jr\",male,39,0,0,112050,0,A36,S,died\n",
      "\n",
      "808,3,\"Pettersson, Miss. Ellen Natalia\",female,18,0,0,347087,7.775,,S,died\n",
      "\n",
      "809,2,\"Meyer, Mr. August\",male,39,0,0,248723,13,,S,died\n",
      "\n"
     ]
    }
   ],
   "source": [
    "with open('titanic_validate.csv', 'r') as data:\n",
    "    for i in range(10):\n",
    "        print(data.readline())"
   ]
  },
  {
   "cell_type": "markdown",
   "id": "af1cbd88",
   "metadata": {},
   "source": [
    "## Validate your model with predictor.py"
   ]
  },
  {
   "cell_type": "code",
   "execution_count": 5,
   "id": "c52076da",
   "metadata": {},
   "outputs": [
    {
     "name": "stdout",
     "output_type": "stream",
     "text": [
      "Classifier Type:                    Random Forest\r\n",
      "System Type:                        2-way classifier\r\n",
      "\r\n",
      "Accuracy:\r\n",
      "    Best-guess accuracy:            61.25%\r\n",
      "    Model accuracy:                 80.00% (64/80 correct)\r\n",
      "    Improvement over best guess:    18.75% (of possible 38.75%)\r\n",
      "\r\n",
      "Model capacity (MEC):               17 bits\r\n",
      "Generalization ratio:               3.62 bits/bit\r\n",
      "\r\n",
      "Confusion Matrix:\r\n",
      "\r\n",
      "      Actual |   Predicted    \r\n",
      "    ----------------------------\r\n",
      "        died |      45        4\r\n",
      "    survived |      12       19\r\n",
      "\r\n",
      "Accuracy by Class:\r\n",
      "\r\n",
      "      target | TP FP TN FN     TPR     TNR     PPV     NPV      F1      TS\r\n",
      "    -------- | -- -- -- -- ------- ------- ------- ------- ------- -------\r\n",
      "        died | 45 12 19  4  91.84%  61.29%  78.95%  82.61%  84.91%  73.77%\r\n",
      "    survived | 19  4 45 12  61.29%  91.84%  82.61%  78.95%  70.37%  54.29%\r\n"
     ]
    }
   ],
   "source": [
    "!{sys.executable} predictor.py titanic_validate.csv -validate"
   ]
  },
  {
   "cell_type": "markdown",
   "id": "efb91420",
   "metadata": {},
   "source": [
    "## Preview predict data set"
   ]
  },
  {
   "cell_type": "code",
   "execution_count": 6,
   "id": "3e4e0a09",
   "metadata": {
    "tags": [
     "output_scroll"
    ]
   },
   "outputs": [
    {
     "name": "stdout",
     "output_type": "stream",
     "text": [
      "PassengerId,Cabin_Class,Name,Sex,Age,Sibling_Spouse,Parent_Children,Ticket_Number,Fare,Cabin_Number,Port_of_Embarkation\n",
      "\n",
      "881,2,\"Shelley, Mrs. William (Imanita Parrish Hall)\",female,25,0,1,230433,26,,S\n",
      "\n",
      "882,3,\"Markun, Mr. Johann\",male,33,0,0,349257,7.8958,,S\n",
      "\n",
      "883,3,\"Dahlberg, Miss. Gerda Ulrika\",female,22,0,0,7552,10.5167,,S\n",
      "\n",
      "884,2,\"Banfield, Mr. Frederick James\",male,28,0,0,C.A./SOTON 34068,10.5,,S\n",
      "\n",
      "885,3,\"Sutehall, Mr. Henry Jr\",male,25,0,0,SOTON/OQ 392076,7.05,,S\n",
      "\n",
      "886,3,\"Rice, Mrs. William (Margaret Norton)\",female,39,0,5,382652,29.125,,Q\n",
      "\n",
      "887,2,\"Montvila, Rev. Juozas\",male,27,0,0,211536,13,,S\n",
      "\n",
      "888,1,\"Graham, Miss. Margaret Edith\",female,19,0,0,112053,30,B42,S\n",
      "\n",
      "889,3,\"Johnston, Miss. Catherine Helen \"Carrie\"\",female,,1,2,W./C. 6607,23.45,,S\n",
      "\n"
     ]
    }
   ],
   "source": [
    "with open('titanic_predict.csv', 'r') as data:\n",
    "    for i in range(10):\n",
    "        print(data.readline())"
   ]
  },
  {
   "cell_type": "markdown",
   "id": "d11bb48e",
   "metadata": {},
   "source": [
    "## Generate classification predictions"
   ]
  },
  {
   "cell_type": "code",
   "execution_count": 7,
   "id": "e2357148",
   "metadata": {},
   "outputs": [
    {
     "name": "stdout",
     "output_type": "stream",
     "text": [
      "PassengerId,Cabin_Class,Name,Sex,Age,Sibling_Spouse,Parent_Children,Ticket_Number,Fare,Cabin_Number,Port_of_Embarkation,Prediction\r\n",
      "881,2,\"Shelley, Mrs. William (Imanita Parrish Hall)\",female,25,0,1,230433,26,,S,survived\r\n",
      "882,3,\"Markun, Mr. Johann\",male,33,0,0,349257,7.8958,,S,died\r\n",
      "883,3,\"Dahlberg, Miss. Gerda Ulrika\",female,22,0,0,7552,10.5167,,S,survived\r\n",
      "884,2,\"Banfield, Mr. Frederick James\",male,28,0,0,C.A./SOTON 34068,10.5,,S,died\r\n",
      "885,3,\"Sutehall, Mr. Henry Jr\",male,25,0,0,SOTON/OQ 392076,7.05,,S,died\r\n",
      "886,3,\"Rice, Mrs. William (Margaret Norton)\",female,39,0,5,382652,29.125,,Q,died\r\n",
      "887,2,\"Montvila, Rev. Juozas\",male,27,0,0,211536,13,,S,died\r\n",
      "888,1,\"Graham, Miss. Margaret Edith\",female,19,0,0,112053,30,B42,S,survived\r\n",
      "889,3,\"Johnston, Miss. Catherine Helen Carrie\"\"\",female,,1,2,W./C. 6607,23.45,,S,survived\r\n",
      "890,1,\"Behr, Mr. Karl Howell\",male,26,0,0,111369,30,C148,C,died\r\n",
      "891,3,\"Dooley, Mr. Patrick\",male,32,0,0,370376,7.75,,Q,died\r\n"
     ]
    }
   ],
   "source": [
    "!{sys.executable} predictor.py titanic_predict.csv"
   ]
  },
  {
   "cell_type": "markdown",
   "id": "a1a44ba5",
   "metadata": {},
   "source": [
    "## Generate prediction probabilities"
   ]
  },
  {
   "cell_type": "code",
   "execution_count": 12,
   "id": "5bbc2710",
   "metadata": {},
   "outputs": [
    {
     "name": "stderr",
     "output_type": "stream",
     "text": [
      "ERROR:root:Internal Python error in the inspect module.\n",
      "Below is the traceback from this internal error.\n",
      "\n"
     ]
    },
    {
     "name": "stdout",
     "output_type": "stream",
     "text": [
      "The input has shape (11, 4) but the expected shape is (*, 11).\n",
      "Traceback (most recent call last):\n",
      "  File \"/work/jupyter_notebooks/predictor.py\", line 352, in __preprocess_and_clean_in_memory\n",
      "    row_used_cols_only = [row[i] for i in important_idxs]\n",
      "  File \"/work/jupyter_notebooks/predictor.py\", line 352, in <listcomp>\n",
      "    row_used_cols_only = [row[i] for i in important_idxs]\n",
      "IndexError: list index out of range\n",
      "\n",
      "During handling of the above exception, another exception occurred:\n",
      "\n",
      "Traceback (most recent call last):\n",
      "  File \"/opt/conda/lib/python3.9/site-packages/IPython/core/interactiveshell.py\", line 3441, in run_code\n",
      "    exec(code_obj, self.user_global_ns, self.user_ns)\n",
      "  File \"/tmp/ipykernel_1104/527621528.py\", line 4, in <module>\n",
      "    predict(input_data)\n",
      "  File \"/work/jupyter_notebooks/predictor.py\", line 488, in predict\n",
      "    arr = __preprocess_and_clean_in_memory(arr)\n",
      "  File \"/work/jupyter_notebooks/predictor.py\", line 361, in __preprocess_and_clean_in_memory\n",
      "    sys.exit(1)\n",
      "SystemExit: 1\n",
      "\n",
      "During handling of the above exception, another exception occurred:\n",
      "\n",
      "Traceback (most recent call last):\n",
      "  File \"/opt/conda/lib/python3.9/site-packages/IPython/core/ultratb.py\", line 1101, in get_records\n",
      "    return _fixed_getinnerframes(etb, number_of_lines_of_context, tb_offset)\n",
      "  File \"/opt/conda/lib/python3.9/site-packages/IPython/core/ultratb.py\", line 248, in wrapped\n",
      "    return f(*args, **kwargs)\n",
      "  File \"/opt/conda/lib/python3.9/site-packages/IPython/core/ultratb.py\", line 281, in _fixed_getinnerframes\n",
      "    records = fix_frame_records_filenames(inspect.getinnerframes(etb, context))\n",
      "  File \"/opt/conda/lib/python3.9/inspect.py\", line 1541, in getinnerframes\n",
      "    frameinfo = (tb.tb_frame,) + getframeinfo(tb, context)\n",
      "AttributeError: 'tuple' object has no attribute 'tb_frame'\n"
     ]
    },
    {
     "ename": "TypeError",
     "evalue": "object of type 'NoneType' has no len()",
     "output_type": "error",
     "traceback": [
      "\u001b[0;31m---------------------------------------------------------------------------\u001b[0m",
      "\u001b[0;31mIndexError\u001b[0m                                Traceback (most recent call last)",
      "\u001b[0;32m/work/jupyter_notebooks/predictor.py\u001b[0m in \u001b[0;36m__preprocess_and_clean_in_memory\u001b[0;34m(arr)\u001b[0m\n\u001b[1;32m    351\u001b[0m         \u001b[0;32mtry\u001b[0m\u001b[0;34m:\u001b[0m\u001b[0;34m\u001b[0m\u001b[0;34m\u001b[0m\u001b[0m\n\u001b[0;32m--> 352\u001b[0;31m             \u001b[0mrow_used_cols_only\u001b[0m \u001b[0;34m=\u001b[0m \u001b[0;34m[\u001b[0m\u001b[0mrow\u001b[0m\u001b[0;34m[\u001b[0m\u001b[0mi\u001b[0m\u001b[0;34m]\u001b[0m \u001b[0;32mfor\u001b[0m \u001b[0mi\u001b[0m \u001b[0;32min\u001b[0m \u001b[0mimportant_idxs\u001b[0m\u001b[0;34m]\u001b[0m\u001b[0;34m\u001b[0m\u001b[0;34m\u001b[0m\u001b[0m\n\u001b[0m\u001b[1;32m    353\u001b[0m         \u001b[0;32mexcept\u001b[0m \u001b[0mIndexError\u001b[0m\u001b[0;34m:\u001b[0m\u001b[0;34m\u001b[0m\u001b[0;34m\u001b[0m\u001b[0m\n",
      "\u001b[0;32m/work/jupyter_notebooks/predictor.py\u001b[0m in \u001b[0;36m<listcomp>\u001b[0;34m(.0)\u001b[0m\n\u001b[1;32m    351\u001b[0m         \u001b[0;32mtry\u001b[0m\u001b[0;34m:\u001b[0m\u001b[0;34m\u001b[0m\u001b[0;34m\u001b[0m\u001b[0m\n\u001b[0;32m--> 352\u001b[0;31m             \u001b[0mrow_used_cols_only\u001b[0m \u001b[0;34m=\u001b[0m \u001b[0;34m[\u001b[0m\u001b[0mrow\u001b[0m\u001b[0;34m[\u001b[0m\u001b[0mi\u001b[0m\u001b[0;34m]\u001b[0m \u001b[0;32mfor\u001b[0m \u001b[0mi\u001b[0m \u001b[0;32min\u001b[0m \u001b[0mimportant_idxs\u001b[0m\u001b[0;34m]\u001b[0m\u001b[0;34m\u001b[0m\u001b[0;34m\u001b[0m\u001b[0m\n\u001b[0m\u001b[1;32m    353\u001b[0m         \u001b[0;32mexcept\u001b[0m \u001b[0mIndexError\u001b[0m\u001b[0;34m:\u001b[0m\u001b[0;34m\u001b[0m\u001b[0;34m\u001b[0m\u001b[0m\n",
      "\u001b[0;31mIndexError\u001b[0m: list index out of range",
      "\nDuring handling of the above exception, another exception occurred:\n",
      "\u001b[0;31mSystemExit\u001b[0m                                Traceback (most recent call last)",
      "    \u001b[0;31m[... skipping hidden 1 frame]\u001b[0m\n",
      "\u001b[0;32m/tmp/ipykernel_1104/527621528.py\u001b[0m in \u001b[0;36m<module>\u001b[0;34m\u001b[0m\n\u001b[1;32m      3\u001b[0m \u001b[0minput_data\u001b[0m \u001b[0;34m=\u001b[0m \u001b[0mpd\u001b[0m\u001b[0;34m.\u001b[0m\u001b[0mread_csv\u001b[0m\u001b[0;34m(\u001b[0m\u001b[0;34m'titanic_predict.csv'\u001b[0m\u001b[0;34m)\u001b[0m\u001b[0;34m\u001b[0m\u001b[0;34m\u001b[0m\u001b[0m\n\u001b[0;32m----> 4\u001b[0;31m \u001b[0mpredict\u001b[0m\u001b[0;34m(\u001b[0m\u001b[0minput_data\u001b[0m\u001b[0;34m)\u001b[0m\u001b[0;34m\u001b[0m\u001b[0;34m\u001b[0m\u001b[0m\n\u001b[0m",
      "\u001b[0;32m/work/jupyter_notebooks/predictor.py\u001b[0m in \u001b[0;36mpredict\u001b[0;34m(arr, remap, **kwargs)\u001b[0m\n\u001b[1;32m    487\u001b[0m     \u001b[0marr\u001b[0m \u001b[0;34m=\u001b[0m \u001b[0;34m[\u001b[0m\u001b[0;34m[\u001b[0m\u001b[0mremove_bad_chars\u001b[0m\u001b[0;34m(\u001b[0m\u001b[0mfield\u001b[0m\u001b[0;34m)\u001b[0m \u001b[0;32mfor\u001b[0m \u001b[0mfield\u001b[0m \u001b[0;32min\u001b[0m \u001b[0mrow\u001b[0m\u001b[0;34m]\u001b[0m \u001b[0;32mfor\u001b[0m \u001b[0mrow\u001b[0m \u001b[0;32min\u001b[0m \u001b[0marr\u001b[0m\u001b[0;34m]\u001b[0m\u001b[0;34m\u001b[0m\u001b[0;34m\u001b[0m\u001b[0m\n\u001b[0;32m--> 488\u001b[0;31m     \u001b[0marr\u001b[0m \u001b[0;34m=\u001b[0m \u001b[0m__preprocess_and_clean_in_memory\u001b[0m\u001b[0;34m(\u001b[0m\u001b[0marr\u001b[0m\u001b[0;34m)\u001b[0m\u001b[0;34m\u001b[0m\u001b[0;34m\u001b[0m\u001b[0m\n\u001b[0m\u001b[1;32m    489\u001b[0m     \u001b[0moutput\u001b[0m \u001b[0;34m=\u001b[0m \u001b[0m__classify\u001b[0m\u001b[0;34m(\u001b[0m\u001b[0marr\u001b[0m\u001b[0;34m,\u001b[0m \u001b[0;34m**\u001b[0m\u001b[0mkwargs\u001b[0m\u001b[0;34m)\u001b[0m\u001b[0;34m\u001b[0m\u001b[0;34m\u001b[0m\u001b[0m\n",
      "\u001b[0;32m/work/jupyter_notebooks/predictor.py\u001b[0m in \u001b[0;36m__preprocess_and_clean_in_memory\u001b[0;34m(arr)\u001b[0m\n\u001b[1;32m    360\u001b[0m             \u001b[0mprint\u001b[0m\u001b[0;34m(\u001b[0m\u001b[0merror_str\u001b[0m\u001b[0;34m)\u001b[0m\u001b[0;34m\u001b[0m\u001b[0;34m\u001b[0m\u001b[0m\n\u001b[0;32m--> 361\u001b[0;31m             \u001b[0msys\u001b[0m\u001b[0;34m.\u001b[0m\u001b[0mexit\u001b[0m\u001b[0;34m(\u001b[0m\u001b[0;36m1\u001b[0m\u001b[0;34m)\u001b[0m\u001b[0;34m\u001b[0m\u001b[0;34m\u001b[0m\u001b[0m\n\u001b[0m\u001b[1;32m    362\u001b[0m         \u001b[0mclean_arr\u001b[0m\u001b[0;34m[\u001b[0m\u001b[0mi\u001b[0m\u001b[0;34m]\u001b[0m \u001b[0;34m=\u001b[0m \u001b[0;34m[\u001b[0m\u001b[0mfloat\u001b[0m\u001b[0;34m(\u001b[0m\u001b[0m__convert\u001b[0m\u001b[0;34m(\u001b[0m\u001b[0mfield\u001b[0m\u001b[0;34m)\u001b[0m\u001b[0;34m)\u001b[0m \u001b[0;32mfor\u001b[0m \u001b[0mfield\u001b[0m \u001b[0;32min\u001b[0m \u001b[0mrow_used_cols_only\u001b[0m\u001b[0;34m]\u001b[0m\u001b[0;34m\u001b[0m\u001b[0;34m\u001b[0m\u001b[0m\n",
      "\u001b[0;31mSystemExit\u001b[0m: 1",
      "\nDuring handling of the above exception, another exception occurred:\n",
      "\u001b[0;31mTypeError\u001b[0m                                 Traceback (most recent call last)",
      "    \u001b[0;31m[... skipping hidden 1 frame]\u001b[0m\n",
      "\u001b[0;32m/opt/conda/lib/python3.9/site-packages/IPython/core/interactiveshell.py\u001b[0m in \u001b[0;36mshowtraceback\u001b[0;34m(self, exc_tuple, filename, tb_offset, exception_only, running_compiled_code)\u001b[0m\n\u001b[1;32m   2052\u001b[0m                     stb = ['An exception has occurred, use %tb to see '\n\u001b[1;32m   2053\u001b[0m                            'the full traceback.\\n']\n\u001b[0;32m-> 2054\u001b[0;31m                     stb.extend(self.InteractiveTB.get_exception_only(etype,\n\u001b[0m\u001b[1;32m   2055\u001b[0m                                                                      value))\n\u001b[1;32m   2056\u001b[0m                 \u001b[0;32melse\u001b[0m\u001b[0;34m:\u001b[0m\u001b[0;34m\u001b[0m\u001b[0;34m\u001b[0m\u001b[0m\n",
      "\u001b[0;32m/opt/conda/lib/python3.9/site-packages/IPython/core/ultratb.py\u001b[0m in \u001b[0;36mget_exception_only\u001b[0;34m(self, etype, value)\u001b[0m\n\u001b[1;32m    752\u001b[0m         \u001b[0mvalue\u001b[0m \u001b[0;34m:\u001b[0m \u001b[0mexception\u001b[0m \u001b[0mvalue\u001b[0m\u001b[0;34m\u001b[0m\u001b[0;34m\u001b[0m\u001b[0m\n\u001b[1;32m    753\u001b[0m         \"\"\"\n\u001b[0;32m--> 754\u001b[0;31m         \u001b[0;32mreturn\u001b[0m \u001b[0mListTB\u001b[0m\u001b[0;34m.\u001b[0m\u001b[0mstructured_traceback\u001b[0m\u001b[0;34m(\u001b[0m\u001b[0mself\u001b[0m\u001b[0;34m,\u001b[0m \u001b[0metype\u001b[0m\u001b[0;34m,\u001b[0m \u001b[0mvalue\u001b[0m\u001b[0;34m)\u001b[0m\u001b[0;34m\u001b[0m\u001b[0;34m\u001b[0m\u001b[0m\n\u001b[0m\u001b[1;32m    755\u001b[0m \u001b[0;34m\u001b[0m\u001b[0m\n\u001b[1;32m    756\u001b[0m     \u001b[0;32mdef\u001b[0m \u001b[0mshow_exception_only\u001b[0m\u001b[0;34m(\u001b[0m\u001b[0mself\u001b[0m\u001b[0;34m,\u001b[0m \u001b[0metype\u001b[0m\u001b[0;34m,\u001b[0m \u001b[0mevalue\u001b[0m\u001b[0;34m)\u001b[0m\u001b[0;34m:\u001b[0m\u001b[0;34m\u001b[0m\u001b[0;34m\u001b[0m\u001b[0m\n",
      "\u001b[0;32m/opt/conda/lib/python3.9/site-packages/IPython/core/ultratb.py\u001b[0m in \u001b[0;36mstructured_traceback\u001b[0;34m(self, etype, evalue, etb, tb_offset, context)\u001b[0m\n\u001b[1;32m    627\u001b[0m             \u001b[0mchained_exceptions_tb_offset\u001b[0m \u001b[0;34m=\u001b[0m \u001b[0;36m0\u001b[0m\u001b[0;34m\u001b[0m\u001b[0;34m\u001b[0m\u001b[0m\n\u001b[1;32m    628\u001b[0m             out_list = (\n\u001b[0;32m--> 629\u001b[0;31m                 self.structured_traceback(\n\u001b[0m\u001b[1;32m    630\u001b[0m                     \u001b[0metype\u001b[0m\u001b[0;34m,\u001b[0m \u001b[0mevalue\u001b[0m\u001b[0;34m,\u001b[0m \u001b[0;34m(\u001b[0m\u001b[0metb\u001b[0m\u001b[0;34m,\u001b[0m \u001b[0mchained_exc_ids\u001b[0m\u001b[0;34m)\u001b[0m\u001b[0;34m,\u001b[0m\u001b[0;34m\u001b[0m\u001b[0;34m\u001b[0m\u001b[0m\n\u001b[1;32m    631\u001b[0m                     chained_exceptions_tb_offset, context)\n",
      "\u001b[0;32m/opt/conda/lib/python3.9/site-packages/IPython/core/ultratb.py\u001b[0m in \u001b[0;36mstructured_traceback\u001b[0;34m(self, etype, value, tb, tb_offset, number_of_lines_of_context)\u001b[0m\n\u001b[1;32m   1365\u001b[0m         \u001b[0;32melse\u001b[0m\u001b[0;34m:\u001b[0m\u001b[0;34m\u001b[0m\u001b[0;34m\u001b[0m\u001b[0m\n\u001b[1;32m   1366\u001b[0m             \u001b[0mself\u001b[0m\u001b[0;34m.\u001b[0m\u001b[0mtb\u001b[0m \u001b[0;34m=\u001b[0m \u001b[0mtb\u001b[0m\u001b[0;34m\u001b[0m\u001b[0;34m\u001b[0m\u001b[0m\n\u001b[0;32m-> 1367\u001b[0;31m         return FormattedTB.structured_traceback(\n\u001b[0m\u001b[1;32m   1368\u001b[0m             self, etype, value, tb, tb_offset, number_of_lines_of_context)\n\u001b[1;32m   1369\u001b[0m \u001b[0;34m\u001b[0m\u001b[0m\n",
      "\u001b[0;32m/opt/conda/lib/python3.9/site-packages/IPython/core/ultratb.py\u001b[0m in \u001b[0;36mstructured_traceback\u001b[0;34m(self, etype, value, tb, tb_offset, number_of_lines_of_context)\u001b[0m\n\u001b[1;32m   1265\u001b[0m         \u001b[0;32mif\u001b[0m \u001b[0mmode\u001b[0m \u001b[0;32min\u001b[0m \u001b[0mself\u001b[0m\u001b[0;34m.\u001b[0m\u001b[0mverbose_modes\u001b[0m\u001b[0;34m:\u001b[0m\u001b[0;34m\u001b[0m\u001b[0;34m\u001b[0m\u001b[0m\n\u001b[1;32m   1266\u001b[0m             \u001b[0;31m# Verbose modes need a full traceback\u001b[0m\u001b[0;34m\u001b[0m\u001b[0;34m\u001b[0m\u001b[0;34m\u001b[0m\u001b[0m\n\u001b[0;32m-> 1267\u001b[0;31m             return VerboseTB.structured_traceback(\n\u001b[0m\u001b[1;32m   1268\u001b[0m                 \u001b[0mself\u001b[0m\u001b[0;34m,\u001b[0m \u001b[0metype\u001b[0m\u001b[0;34m,\u001b[0m \u001b[0mvalue\u001b[0m\u001b[0;34m,\u001b[0m \u001b[0mtb\u001b[0m\u001b[0;34m,\u001b[0m \u001b[0mtb_offset\u001b[0m\u001b[0;34m,\u001b[0m \u001b[0mnumber_of_lines_of_context\u001b[0m\u001b[0;34m\u001b[0m\u001b[0;34m\u001b[0m\u001b[0m\n\u001b[1;32m   1269\u001b[0m             )\n",
      "\u001b[0;32m/opt/conda/lib/python3.9/site-packages/IPython/core/ultratb.py\u001b[0m in \u001b[0;36mstructured_traceback\u001b[0;34m(self, etype, evalue, etb, tb_offset, number_of_lines_of_context)\u001b[0m\n\u001b[1;32m   1122\u001b[0m         \u001b[0;34m\"\"\"Return a nice text document describing the traceback.\"\"\"\u001b[0m\u001b[0;34m\u001b[0m\u001b[0;34m\u001b[0m\u001b[0m\n\u001b[1;32m   1123\u001b[0m \u001b[0;34m\u001b[0m\u001b[0m\n\u001b[0;32m-> 1124\u001b[0;31m         formatted_exception = self.format_exception_as_a_whole(etype, evalue, etb, number_of_lines_of_context,\n\u001b[0m\u001b[1;32m   1125\u001b[0m                                                                tb_offset)\n\u001b[1;32m   1126\u001b[0m \u001b[0;34m\u001b[0m\u001b[0m\n",
      "\u001b[0;32m/opt/conda/lib/python3.9/site-packages/IPython/core/ultratb.py\u001b[0m in \u001b[0;36mformat_exception_as_a_whole\u001b[0;34m(self, etype, evalue, etb, number_of_lines_of_context, tb_offset)\u001b[0m\n\u001b[1;32m   1080\u001b[0m \u001b[0;34m\u001b[0m\u001b[0m\n\u001b[1;32m   1081\u001b[0m \u001b[0;34m\u001b[0m\u001b[0m\n\u001b[0;32m-> 1082\u001b[0;31m         \u001b[0mlast_unique\u001b[0m\u001b[0;34m,\u001b[0m \u001b[0mrecursion_repeat\u001b[0m \u001b[0;34m=\u001b[0m \u001b[0mfind_recursion\u001b[0m\u001b[0;34m(\u001b[0m\u001b[0morig_etype\u001b[0m\u001b[0;34m,\u001b[0m \u001b[0mevalue\u001b[0m\u001b[0;34m,\u001b[0m \u001b[0mrecords\u001b[0m\u001b[0;34m)\u001b[0m\u001b[0;34m\u001b[0m\u001b[0;34m\u001b[0m\u001b[0m\n\u001b[0m\u001b[1;32m   1083\u001b[0m \u001b[0;34m\u001b[0m\u001b[0m\n\u001b[1;32m   1084\u001b[0m         \u001b[0mframes\u001b[0m \u001b[0;34m=\u001b[0m \u001b[0mself\u001b[0m\u001b[0;34m.\u001b[0m\u001b[0mformat_records\u001b[0m\u001b[0;34m(\u001b[0m\u001b[0mrecords\u001b[0m\u001b[0;34m,\u001b[0m \u001b[0mlast_unique\u001b[0m\u001b[0;34m,\u001b[0m \u001b[0mrecursion_repeat\u001b[0m\u001b[0;34m)\u001b[0m\u001b[0;34m\u001b[0m\u001b[0;34m\u001b[0m\u001b[0m\n",
      "\u001b[0;32m/opt/conda/lib/python3.9/site-packages/IPython/core/ultratb.py\u001b[0m in \u001b[0;36mfind_recursion\u001b[0;34m(etype, value, records)\u001b[0m\n\u001b[1;32m    380\u001b[0m     \u001b[0;31m# first frame (from in to out) that looks different.\u001b[0m\u001b[0;34m\u001b[0m\u001b[0;34m\u001b[0m\u001b[0;34m\u001b[0m\u001b[0m\n\u001b[1;32m    381\u001b[0m     \u001b[0;32mif\u001b[0m \u001b[0;32mnot\u001b[0m \u001b[0mis_recursion_error\u001b[0m\u001b[0;34m(\u001b[0m\u001b[0metype\u001b[0m\u001b[0;34m,\u001b[0m \u001b[0mvalue\u001b[0m\u001b[0;34m,\u001b[0m \u001b[0mrecords\u001b[0m\u001b[0;34m)\u001b[0m\u001b[0;34m:\u001b[0m\u001b[0;34m\u001b[0m\u001b[0;34m\u001b[0m\u001b[0m\n\u001b[0;32m--> 382\u001b[0;31m         \u001b[0;32mreturn\u001b[0m \u001b[0mlen\u001b[0m\u001b[0;34m(\u001b[0m\u001b[0mrecords\u001b[0m\u001b[0;34m)\u001b[0m\u001b[0;34m,\u001b[0m \u001b[0;36m0\u001b[0m\u001b[0;34m\u001b[0m\u001b[0;34m\u001b[0m\u001b[0m\n\u001b[0m\u001b[1;32m    383\u001b[0m \u001b[0;34m\u001b[0m\u001b[0m\n\u001b[1;32m    384\u001b[0m     \u001b[0;31m# Select filename, lineno, func_name to track frames with\u001b[0m\u001b[0;34m\u001b[0m\u001b[0;34m\u001b[0m\u001b[0;34m\u001b[0m\u001b[0m\n",
      "\u001b[0;31mTypeError\u001b[0m: object of type 'NoneType' has no len()"
     ]
    }
   ],
   "source": [
    "import pandas as pd\n",
    "from predictor import predict\n",
    "input_data = pd.read_csv('titanic_predict.csv')\n",
    "predict(input_data)"
   ]
  },
  {
   "cell_type": "code",
   "execution_count": null,
   "id": "dd2c5d86",
   "metadata": {},
   "outputs": [],
   "source": []
  }
 ],
 "metadata": {
  "celltoolbar": "Edit Metadata",
  "kernelspec": {
   "display_name": "Python 3 (ipykernel)",
   "language": "python",
   "name": "python3"
  },
  "language_info": {
   "codemirror_mode": {
    "name": "ipython",
    "version": 3
   },
   "file_extension": ".py",
   "mimetype": "text/x-python",
   "name": "python",
   "nbconvert_exporter": "python",
   "pygments_lexer": "ipython3",
   "version": "3.9.6"
  }
 },
 "nbformat": 4,
 "nbformat_minor": 5
}
