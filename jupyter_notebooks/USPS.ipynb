{
 "cells": [
  {
   "cell_type": "markdown",
   "metadata": {},
   "source": [
    "# USPS Data Prediction Using Daimensions\n",
    "\n",
    "This dataset is from OpenML who describes the data as, \"Normalized handwritten digits, automatically scanned from envelopes by the U.S. Postal Service.\""
   ]
  },
  {
   "cell_type": "markdown",
   "metadata": {},
   "source": [
    "## 0. Setup\n",
    "\n",
    "We'll get the csv from the OpenML link and use a pandas dataframe to split it into training and validation data in csv's."
   ]
  },
  {
   "cell_type": "code",
   "execution_count": 1,
   "metadata": {},
   "outputs": [
    {
     "data": {
      "text/html": "<div>\n<style scoped>\n    .dataframe tbody tr th:only-of-type {\n        vertical-align: middle;\n    }\n\n    .dataframe tbody tr th {\n        vertical-align: top;\n    }\n\n    .dataframe thead th {\n        text-align: right;\n    }\n</style>\n<table border=\"1\" class=\"dataframe\">\n  <thead>\n    <tr style=\"text-align: right;\">\n      <th></th>\n      <th>int0</th>\n      <th>double1</th>\n      <th>double2</th>\n      <th>double3</th>\n      <th>double4</th>\n      <th>double5</th>\n      <th>double6</th>\n      <th>double7</th>\n      <th>double8</th>\n      <th>double9</th>\n      <th>...</th>\n      <th>double247</th>\n      <th>double248</th>\n      <th>double249</th>\n      <th>double250</th>\n      <th>double251</th>\n      <th>double252</th>\n      <th>double253</th>\n      <th>double254</th>\n      <th>double255</th>\n      <th>double256</th>\n    </tr>\n  </thead>\n  <tbody>\n    <tr>\n      <th>0</th>\n      <td>7</td>\n      <td>-1.000000</td>\n      <td>-1.000000</td>\n      <td>-1.000000</td>\n      <td>-0.999997</td>\n      <td>-0.999729</td>\n      <td>-0.989537</td>\n      <td>-0.860165</td>\n      <td>-0.395924</td>\n      <td>0.048299</td>\n      <td>...</td>\n      <td>0.131298</td>\n      <td>0.384728</td>\n      <td>0.433073</td>\n      <td>0.193397</td>\n      <td>-0.237439</td>\n      <td>-0.649848</td>\n      <td>-0.906359</td>\n      <td>-0.988672</td>\n      <td>-0.999475</td>\n      <td>-0.999994</td>\n    </tr>\n    <tr>\n      <th>1</th>\n      <td>6</td>\n      <td>-0.999927</td>\n      <td>-0.993644</td>\n      <td>-0.900309</td>\n      <td>-0.632621</td>\n      <td>-0.443145</td>\n      <td>-0.454436</td>\n      <td>-0.474872</td>\n      <td>-0.431176</td>\n      <td>-0.494539</td>\n      <td>...</td>\n      <td>-0.388084</td>\n      <td>-0.273639</td>\n      <td>0.001094</td>\n      <td>0.294825</td>\n      <td>0.316915</td>\n      <td>0.113494</td>\n      <td>-0.092331</td>\n      <td>-0.329390</td>\n      <td>-0.584681</td>\n      <td>-0.868793</td>\n    </tr>\n    <tr>\n      <th>2</th>\n      <td>5</td>\n      <td>-1.000000</td>\n      <td>-1.000000</td>\n      <td>-1.000000</td>\n      <td>-0.999995</td>\n      <td>-0.999986</td>\n      <td>-0.999987</td>\n      <td>-0.999990</td>\n      <td>-0.999316</td>\n      <td>-0.976299</td>\n      <td>...</td>\n      <td>-0.999778</td>\n      <td>-0.988816</td>\n      <td>-0.821857</td>\n      <td>-0.277379</td>\n      <td>0.136501</td>\n      <td>-0.247816</td>\n      <td>-0.809498</td>\n      <td>-0.988116</td>\n      <td>-0.999864</td>\n      <td>-1.000000</td>\n    </tr>\n    <tr>\n      <th>3</th>\n      <td>8</td>\n      <td>-0.999998</td>\n      <td>-0.999800</td>\n      <td>-0.994136</td>\n      <td>-0.932288</td>\n      <td>-0.673685</td>\n      <td>-0.192056</td>\n      <td>0.218820</td>\n      <td>0.337224</td>\n      <td>0.193371</td>\n      <td>...</td>\n      <td>-0.373861</td>\n      <td>0.196530</td>\n      <td>0.002823</td>\n      <td>-0.695900</td>\n      <td>-0.976372</td>\n      <td>-0.999458</td>\n      <td>-0.999996</td>\n      <td>-1.000000</td>\n      <td>-1.000000</td>\n      <td>-1.000000</td>\n    </tr>\n    <tr>\n      <th>4</th>\n      <td>4</td>\n      <td>-1.000000</td>\n      <td>-0.999971</td>\n      <td>-0.997452</td>\n      <td>-0.957499</td>\n      <td>-0.801681</td>\n      <td>-0.510623</td>\n      <td>-0.107965</td>\n      <td>0.217262</td>\n      <td>0.216431</td>\n      <td>...</td>\n      <td>0.214362</td>\n      <td>0.339240</td>\n      <td>0.458489</td>\n      <td>0.473456</td>\n      <td>0.372240</td>\n      <td>0.173322</td>\n      <td>-0.144182</td>\n      <td>-0.542254</td>\n      <td>-0.863031</td>\n      <td>-0.981978</td>\n    </tr>\n  </tbody>\n</table>\n<p>5 rows × 257 columns</p>\n</div>",
      "text/plain": "   int0   double1   double2   double3   double4   double5   double6   double7  \\\n0     7 -1.000000 -1.000000 -1.000000 -0.999997 -0.999729 -0.989537 -0.860165   \n1     6 -0.999927 -0.993644 -0.900309 -0.632621 -0.443145 -0.454436 -0.474872   \n2     5 -1.000000 -1.000000 -1.000000 -0.999995 -0.999986 -0.999987 -0.999990   \n3     8 -0.999998 -0.999800 -0.994136 -0.932288 -0.673685 -0.192056  0.218820   \n4     4 -1.000000 -0.999971 -0.997452 -0.957499 -0.801681 -0.510623 -0.107965   \n\n    double8   double9  ...  double247  double248  double249  double250  \\\n0 -0.395924  0.048299  ...   0.131298   0.384728   0.433073   0.193397   \n1 -0.431176 -0.494539  ...  -0.388084  -0.273639   0.001094   0.294825   \n2 -0.999316 -0.976299  ...  -0.999778  -0.988816  -0.821857  -0.277379   \n3  0.337224  0.193371  ...  -0.373861   0.196530   0.002823  -0.695900   \n4  0.217262  0.216431  ...   0.214362   0.339240   0.458489   0.473456   \n\n   double251  double252  double253  double254  double255  double256  \n0  -0.237439  -0.649848  -0.906359  -0.988672  -0.999475  -0.999994  \n1   0.316915   0.113494  -0.092331  -0.329390  -0.584681  -0.868793  \n2   0.136501  -0.247816  -0.809498  -0.988116  -0.999864  -1.000000  \n3  -0.976372  -0.999458  -0.999996  -1.000000  -1.000000  -1.000000  \n4   0.372240   0.173322  -0.144182  -0.542254  -0.863031  -0.981978  \n\n[5 rows x 257 columns]"
     },
     "execution_count": 1,
     "metadata": {},
     "output_type": "execute_result"
    }
   ],
   "source": [
    "# using pandas to get csv as a dataframe and see how it looks\n",
    "import pandas as pd\n",
    "from sklearn.model_selection import train_test_split\n",
    "\n",
    "dataset_url = 'https://www.openml.org/data/get_csv/19329737/usps.csv'\n",
    "data = pd.read_csv(dataset_url)\n",
    "data.head()"
   ]
  },
  {
   "cell_type": "code",
   "execution_count": 2,
   "metadata": {},
   "outputs": [],
   "source": [
    "# split data into training and testing csv's, y is for the target column (int0)\n",
    "y = data.int0\n",
    "X = data.drop('int0', axis=1)\n",
    "X_train, X_test, y_train, y_test = train_test_split(X, y,test_size=0.2)\n",
    "pd.concat([X_train, y_train], axis=1).to_csv('data/usps_train.csv',index=False)\n",
    "pd.concat([X_test, y_test], axis=1).to_csv('data/usps_valid.csv',index=False)"
   ]
  },
  {
   "cell_type": "markdown",
   "metadata": {},
   "source": [
    "### Installing Brainome via Pip\n",
    "Simply run the cell below in order to install Brainome and be able to use it in terminal"
   ]
  },
  {
   "cell_type": "code",
   "execution_count": 3,
   "metadata": {},
   "outputs": [],
   "source": [
    "# ! pip install brainome"
   ]
  },
  {
   "cell_type": "markdown",
   "metadata": {},
   "source": [
    "## 1. Get Measurements\n",
    "\n",
    "We always want to measure our data before building our predictor in order to ensure we are building the right model. For more information about how to use Daimensions and why we want to measure our data beforehand, check out the Titanic notebook. Don't forget to use -target int0 because the target column is not on the very right for this dataset."
   ]
  },
  {
   "cell_type": "code",
   "execution_count": 3,
   "metadata": {},
   "outputs": [
    {
     "name": "stdout",
     "output_type": "stream",
     "text": [
      "WARNING: Could not detect a GPU. Neural Network generation will be slow.\n",
      "\n",
      "\u001b[01;1mBrainome Table Compiler v1.005-7-prod\u001b[0m\n",
      "Copyright (c) 2019-2021 Brainome, Inc. All Rights Reserved.\n",
      "Licensed to:                 Alexander Makhratchev  (Evaluation)\n",
      "Expiration Date:             2021-08-31   26 days left\n",
      "Maximum File Size:           30 GB\n",
      "Maximum Instances:           unlimited\n",
      "Maximum Attributes:          unlimited\n",
      "Maximum Classes:             unlimited\n",
      "Connected to:                daimensions.brainome.ai  (local execution)\n",
      "\n",
      "\u001b[01;1mCommand:\u001b[0m\n",
      "    btc -measureonly data/usps_train.csv -target int0\n",
      "\n",
      "Start Time:                 08/05/2021, 16:51 PDT\n",
      "\n",
      "Cleaning...done. \n",
      "Splitting into training and validation...done. \n",
      "Pre-training measurements...done. \n",
      "\n",
      "\n",
      "\u001b[01;1mPre-training Measurements\u001b[0m\n",
      "Data:\n",
      "    Input:                      data/usps_train.csv\n",
      "    Target Column:              int0\n",
      "    Number of instances:       7438\n",
      "    Number of attributes:       256 out of 256\n",
      "    Number of classes:           10\n",
      "\n",
      "Class Balance:                \n",
      "                               1: 16.94%\n",
      "                               9: 7.57%\n",
      "                               3: 10.15%\n",
      "                               4: 8.87%\n",
      "                              10: 8.60%\n",
      "                               8: 8.60%\n",
      "                               7: 8.91%\n",
      "                               5: 9.13%\n",
      "                               2: 13.67%\n",
      "                               6: 7.54%\n",
      "\n",
      "Learnability:\n",
      "    Best guess accuracy:          16.94%\n",
      "    Data Sufficiency:             Maybe enough data to generalize. [yellow]\n",
      "\n",
      "Capacity Progression:             at [ 5%, 10%, 20%, 40%, 80%, 100% ]\n",
      "    Ideal Machine Learner:             10,  11,  12,  12,  13,  13\n",
      "\n",
      "\n",
      "\n",
      "\n",
      "Expected Generalization:\n",
      "    Decision Tree:                 4.07 bits/bit\n",
      "    Neural Network:                6.99 bits/bit\n",
      "    Random Forest:                50.60 bits/bit\n",
      "\n",
      "Expected Accuracy:              Training            Validation\n",
      "    Decision Tree:               100.00%                19.58%\n",
      "    Neural Network:                 ----                  ----\n",
      "    Random Forest:               100.00%                96.05%\n",
      "\n",
      "Recommendations:\n",
      "    We recommend using Random Forest -f RF.\n",
      "    If TPR of all classes are important and your data is unbalanced, try using the option -balance to improve all TPRs.\n",
      "    If predictor accuracy is insufficient, try using the effort option -e with a value of 5 or more to increase training time. \n",
      "\n",
      "Time to Build Estimates:\n",
      "    Decision Tree:                a few seconds\n",
      "\n",
      "\n",
      "\n",
      "\n",
      "End Time:           08/05/2021, 16:52 PDT\n",
      "Runtime Duration:   47s\n",
      "\n"
     ]
    }
   ],
   "source": [
    "! brainome -measureonly data/usps_train.csv -target int0"
   ]
  },
  {
   "cell_type": "markdown",
   "metadata": {},
   "source": [
    "## 2. Build the Predictor\n",
    "\n",
    "Based on our measurements, Daimensions recommends we use a neural network (higher expected generalization) and more effort for this dataset. Don't forget to use -target because the target column isn't on the very right."
   ]
  },
  {
   "cell_type": "code",
   "execution_count": 4,
   "metadata": {},
   "outputs": [
    {
     "name": "stdout",
     "output_type": "stream",
     "text": [
      "WARNING: Could not detect a GPU. Neural Network generation will be slow.\n",
      "\n",
      "\u001b[01;1mBrainome Table Compiler v1.005-7-prod\u001b[0m\n",
      "Copyright (c) 2019-2021 Brainome, Inc. All Rights Reserved.\n",
      "Licensed to:                 Alexander Makhratchev  (Evaluation)\n",
      "Expiration Date:             2021-08-31   26 days left\n",
      "Maximum File Size:           30 GB\n",
      "Maximum Instances:           unlimited\n",
      "Maximum Attributes:          unlimited\n",
      "Maximum Classes:             unlimited\n",
      "Connected to:                daimensions.brainome.ai  (local execution)\n",
      "\n",
      "\u001b[01;1mCommand:\u001b[0m\n",
      "    btc -f NN data/usps_train.csv -o usps_predict.py -target int0 -e 5 --yes\n",
      "\n",
      "Start Time:                 08/05/2021, 16:55 PDT\n",
      "\n",
      "Cleaning...done. \n",
      "Splitting into training and validation...done. \n",
      "Pre-training measurements...done. \n",
      "\n",
      "\n",
      "\u001b[01;1mPre-training Measurements\u001b[0m\n",
      "Data:\n",
      "    Input:                      data/usps_train.csv\n",
      "    Target Column:              int0\n",
      "    Number of instances:       7438\n",
      "    Number of attributes:       256 out of 256\n",
      "    Number of classes:           10\n",
      "\n",
      "Class Balance:                \n",
      "                               1: 16.94%\n",
      "                               9: 7.57%\n",
      "                               3: 10.15%\n",
      "                               4: 8.87%\n",
      "                              10: 8.60%\n",
      "                               8: 8.60%\n",
      "                               7: 8.91%\n",
      "                               5: 9.13%\n",
      "                               2: 13.67%\n",
      "                               6: 7.54%\n",
      "\n",
      "Learnability:\n",
      "    Best guess accuracy:          16.94%\n",
      "    Data Sufficiency:             Maybe enough data to generalize. [yellow]\n",
      "\n",
      "Capacity Progression:             at [ 5%, 10%, 20%, 40%, 80%, 100% ]\n",
      "    Ideal Machine Learner:             10,  11,  12,  12,  13,  13\n",
      "\n",
      "\n",
      "\n",
      "\n",
      "Expected Generalization:\n",
      "    Decision Tree:                 4.07 bits/bit\n",
      "    Neural Network:                6.99 bits/bit\n",
      "    Random Forest:                50.60 bits/bit\n",
      "\n",
      "Expected Accuracy:              Training            Validation\n",
      "    Decision Tree:               100.00%                19.58%\n",
      "    Neural Network:                 ----                  ----\n",
      "    Random Forest:               100.00%                96.05%\n",
      "\n",
      "Recommendations:\n",
      "    We recommend using Random Forest -f RF.\n",
      "    If TPR of all classes are important and your data is unbalanced, try using the option -balance to improve all TPRs.\n",
      "    Model type NN given by user. \n",
      "\n",
      "\n",
      "Architecting model...done. \n",
      "Priming model...done. \n",
      "Training...done. \n",
      "Compiling predictor...done. \n",
      "Validating predictor...done. \n",
      "\n",
      "\u001b[01;1mPredictor:\u001b[0m                        usps_predict.py\n",
      "    Classifier Type:              Neural Network\n",
      "    System Type:                  10-way classifier\n",
      "    Training / Validation Split:  60% : 40%\n",
      "    Accuracy:\n",
      "      Best-guess accuracy:        16.94%\n",
      "      Training accuracy:          97.26% (4338/4460 correct)\n",
      "      Validation Accuracy:        94.92% (2827/2978 correct)\n",
      "      Combined Model Accuracy:    96.32% (7165/7438 correct)\n",
      "\n",
      "    Model Capacity (MEC):        622    bits\n",
      "\n",
      "    Generalization Ratio:         22.79 bits/bit\n",
      "    Percent of Data Memorized:    16.09%\n",
      "    Resilience to Noise:          -0.84 dB\n",
      "\n",
      "\n",
      "    Training Confusion Matrix:\n",
      "              Actual | Predicted\n",
      "              ------ | ---------\n",
      "                   1 |   749     1     1     0     0     0     2     0     0     3 \n",
      "                   9 |     1   323     2     2     0     1     0     2     3     3 \n",
      "                   3 |     2     5   429     6     0     1     0     7     1     2 \n",
      "                   4 |     2     6     2   382     0     0     0     0     1     3 \n",
      "                  10 |     0     1     1     2   377     1     0     0     0     2 \n",
      "                   8 |     0     0     0     0     2   380     0     2     0     0 \n",
      "                   7 |     1     1     3     0     0     0   389     1     1     1 \n",
      "                   5 |     0     1     3     0     3     1     4   393     2     0 \n",
      "                   2 |     0     1     0     2     0     0     1     1   604     1 \n",
      "                   6 |     5     1     3     7     2     2     3     1     0   312 \n",
      "\n",
      "    Validation Confusion Matrix:\n",
      "              Actual | Predicted\n",
      "              ------ | ---------\n",
      "                   1 |   489     2     5     2     0     0     2     2     1     1 \n",
      "                   9 |     5   200     4     7     1     1     0     1     1     6 \n",
      "                   3 |     0     2   287     4     0     1     1     4     0     3 \n",
      "                   4 |     2     5     6   238     2     2     0     1     0     8 \n",
      "                  10 |     0     0     0     0   245     4     0     5     0     2 \n",
      "                   8 |     0     2     1     0     2   248     0     2     1     0 \n",
      "                   7 |     3     1     5     0     0     0   251     3     3     0 \n",
      "                   5 |     0     2     3     0     4     0     3   257     2     1 \n",
      "                   2 |     0     1     0     0     0     1     2     0   403     0 \n",
      "                   6 |     4     0     2     3     0     1     4     2     0   209 \n",
      "\n",
      "    Training Accuracy by Class:\n",
      "                int0 |    TP    FP    TN    FN     TPR      TNR      PPV      NPV       F1       TS \n",
      "                ---- | ----- ----- ----- ----- -------- -------- -------- -------- -------- --------\n",
      "                   1 |   749    11  3693     7   99.07%   99.70%   98.55%   99.81%   98.81%   97.65%\n",
      "                   9 |   323    17  4106    14   95.85%   99.59%   95.00%   99.66%   95.42%   91.24%\n",
      "                   3 |   429    15  3992    24   94.70%   99.63%   96.62%   99.40%   95.65%   91.67%\n",
      "                   4 |   382    19  4045    14   96.46%   99.53%   95.26%   99.66%   95.86%   92.05%\n",
      "                  10 |   377     7  4069     7   98.18%   99.83%   98.18%   99.83%   98.18%   96.42%\n",
      "                   8 |   380     6  4070     4   98.96%   99.85%   98.45%   99.90%   98.70%   97.44%\n",
      "                   7 |   389    10  4053     8   97.98%   99.75%   97.49%   99.80%   97.74%   95.58%\n",
      "                   5 |   393    14  4039    14   96.56%   99.65%   96.56%   99.65%   96.56%   93.35%\n",
      "                   2 |   604     8  3842     6   99.02%   99.79%   98.69%   99.84%   98.85%   97.73%\n",
      "                   6 |   312    15  4109    24   92.86%   99.64%   95.41%   99.42%   94.12%   88.89%\n",
      "\n",
      "    Validation Accuracy by Class:\n",
      "                int0 |    TP    FP    TN    FN     TPR      TNR      PPV      NPV       F1       TS \n",
      "                ---- | ----- ----- ----- ----- -------- -------- -------- -------- -------- --------\n",
      "                   1 |   489    14  2460    15   97.02%   99.43%   97.22%   99.39%   97.12%   94.40%\n",
      "                   9 |   200    15  2737    26   88.50%   99.45%   93.02%   99.06%   90.70%   82.99%\n",
      "                   3 |   287    26  2650    15   95.03%   99.03%   91.69%   99.44%   93.33%   87.50%\n",
      "                   4 |   238    16  2698    26   90.15%   99.41%   93.70%   99.05%   91.89%   85.00%\n",
      "                  10 |   245     9  2713    11   95.70%   99.67%   96.46%   99.60%   96.08%   92.45%\n",
      "                   8 |   248    10  2712     8   96.88%   99.63%   96.12%   99.71%   96.50%   93.23%\n",
      "                   7 |   251    12  2700    15   94.36%   99.56%   95.44%   99.45%   94.90%   90.29%\n",
      "                   5 |   257    20  2686    15   94.49%   99.26%   92.78%   99.44%   93.62%   88.01%\n",
      "                   2 |   403     8  2563     4   99.02%   99.69%   98.05%   99.84%   98.53%   97.11%\n",
      "                   6 |   209    21  2732    16   92.89%   99.24%   90.87%   99.42%   91.87%   84.96%\n",
      "\n",
      "\n",
      "\n",
      "\n",
      "\n",
      "\n",
      "End Time:           08/05/2021, 17:03 PDT\n",
      "Runtime Duration:   8m 29s\n",
      "\n"
     ]
    }
   ],
   "source": [
    "! brainome -f NN data/usps_train.csv -o usps_predict.py -target int0 -e 5 --yes"
   ]
  },
  {
   "cell_type": "markdown",
   "metadata": {},
   "source": [
    "## 3. Validate the Model\n",
    "\n",
    "Now we can validate our model on our test data, a separate set of data that wasn't used for training."
   ]
  },
  {
   "cell_type": "code",
   "execution_count": 5,
   "metadata": {},
   "outputs": [
    {
     "name": "stdout",
     "output_type": "stream",
     "text": [
      "Classifier Type:                    Neural Network\n",
      "System Type:                        10-way classifier\n",
      "\n",
      "Accuracy:\n",
      "    Best-guess accuracy:            15.75%\n",
      "    Model accuracy:                 94.35% (1755/1860 correct)\n",
      "    Improvement over best guess:    78.60% (of possible 84.25%)\n",
      "\n",
      "Model capacity (MEC):               622 bits\n",
      "Generalization ratio:               9.26 bits/bit\n",
      "\n",
      "Confusion Matrix:\n",
      "\n",
      "      Actual |          Predicted           \n",
      "    --------------------------------------------------\n",
      "           1 |288   0   1   1   0   0   3   0   0   0\n",
      "           9 |  0 129   1   4   2   3   0   1   0   5\n",
      "           3 |  1   3 162   4   0   0   0   0   0   4\n",
      "           4 |  0   2   6 148   1   0   0   0   0   7\n",
      "          10 |  1   1   0   0 169   8   0   2   0   0\n",
      "           8 |  0   0   2   1   3 144   0   1   0   1\n",
      "           7 |  2   3   1   0   0   0 161   2   2   0\n",
      "           5 |  0   1   2   0   4   0   3 162   1   0\n",
      "           2 |  0   2   0   0   0   0   0   0 249   1\n",
      "           6 |  5   1   1   3   0   0   1   1   0 143\n",
      "\n",
      "Accuracy by Class:\n",
      "\n",
      "      target |  TP FP   TN FN     TPR     TNR     PPV     NPV      F1      TS\n",
      "    -------- | --- -- ---- -- ------- ------- ------- ------- ------- -------\n",
      "           1 | 288  9 1558  5  98.29%  99.43%  96.97%  99.68%  97.63%  95.36%\n",
      "           9 | 129 13 1702 16  88.97%  99.24%  90.85%  99.07%  89.90%  81.65%\n",
      "           3 | 162 14 1672 12  93.10%  99.17%  92.05%  99.29%  92.57%  86.17%\n",
      "           4 | 148 13 1683 16  90.24%  99.23%  91.93%  99.06%  91.08%  83.62%\n",
      "          10 | 169 10 1669 12  93.37%  99.40%  94.41%  99.29%  93.89%  88.48%\n",
      "           8 | 144 11 1697  8  94.74%  99.36%  92.90%  99.53%  93.81%  88.34%\n",
      "           7 | 161  7 1682 10  94.15%  99.59%  95.83%  99.41%  94.99%  90.45%\n",
      "           5 | 162  7 1680 11  93.64%  99.59%  95.86%  99.35%  94.74%  90.00%\n",
      "           2 | 249  3 1605  3  98.81%  99.81%  98.81%  99.81%  98.81%  97.65%\n",
      "           6 | 143 18 1687 12  92.26%  98.94%  88.82%  99.29%  90.51%  82.66%\n"
     ]
    }
   ],
   "source": [
    "! python3 usps_predict.py -validate data/usps_valid.csv "
   ]
  },
  {
   "cell_type": "markdown",
   "metadata": {},
   "source": [
    "Hooray! We have validated the accuracy of our model and found that it has a 94.35% accuracy for the test data. We can also see the confusion matrix, which tells us the percentage of data points from each class (columns) that were predicted to be in a certain class (rows). The diagonals are correctly predicted data points."
   ]
  },
  {
   "cell_type": "code",
   "execution_count": null,
   "metadata": {},
   "outputs": [],
   "source": []
  }
 ],
 "metadata": {
  "kernelspec": {
   "display_name": "Python 3.7.6 64-bit ('base': conda)",
   "name": "python376jvsc74a57bd0a876d5d129613f84737ac732b9dceeab4d5b6e46c5cd6a0b580a7fe744c52632"
  },
  "language_info": {
   "codemirror_mode": {
    "name": "ipython",
    "version": 3
   },
   "file_extension": ".py",
   "mimetype": "text/x-python",
   "name": "python",
   "nbconvert_exporter": "python",
   "pygments_lexer": "ipython3",
   "version": "3.7.6"
  }
 },
 "nbformat": 4,
 "nbformat_minor": 2
}