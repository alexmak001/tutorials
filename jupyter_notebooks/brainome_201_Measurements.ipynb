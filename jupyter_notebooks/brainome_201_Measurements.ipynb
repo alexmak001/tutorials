{
 "cells": [
  {
   "cell_type": "markdown",
   "id": "d7d70ceb",
   "metadata": {},
   "source": [
    "![](https://www.brainome.ai/wp-content/uploads/2020/08/brainome_logo.png)\n",
    "# 201 Measuring your data.\n",
    "An overview of how we measure your data."
   ]
  },
  {
   "cell_type": "markdown",
   "id": "357867dd",
   "metadata": {},
   "source": [
    "## Setup\n",
    "Install brainome and download a titanic data set (identical to brainome_101_Quick_Start).\n"
   ]
  },
  {
   "cell_type": "code",
   "execution_count": 3,
   "id": "19981cec",
   "metadata": {},
   "outputs": [
    {
     "name": "stdout",
     "output_type": "stream",
     "text": [
      "--2021-07-30 00:27:55--  https://download.brainome.ai/data/public/titanic_train.csv\n",
      "Resolving download.brainome.ai (download.brainome.ai)... 143.204.128.57, 143.204.128.78, 143.204.128.2, ...\n",
      "Connecting to download.brainome.ai (download.brainome.ai)|143.204.128.57|:443... connected.\n",
      "HTTP request sent, awaiting response... 304 Not Modified\n",
      "File ‘titanic_train.csv’ not modified on server. Omitting download.\n",
      "\n",
      "--2021-07-30 00:27:55--  https://download.brainome.ai/data/public/titanic_validate.csv\n",
      "Resolving download.brainome.ai (download.brainome.ai)... 143.204.128.57, 143.204.128.78, 143.204.128.2, ...\n",
      "Connecting to download.brainome.ai (download.brainome.ai)|143.204.128.57|:443... connected.\n",
      "HTTP request sent, awaiting response... 304 Not Modified\n",
      "File ‘titanic_validate.csv’ not modified on server. Omitting download.\n",
      "\n"
     ]
    }
   ],
   "source": [
    "# pip install brainome \n",
    "import sys\n",
    "!{sys.executable} -m pip -q install --upgrade brainome\n",
    "!wget -Nq https://download.brainome.ai/data/public/titanic_train.csv\n",
    "!wget -Nq https://download.brainome.ai/data/public/titanic_validate.csv"
   ]
  },
  {
   "cell_type": "markdown",
   "id": "61081181",
   "metadata": {},
   "source": [
    "## Measure your data prior to training a model."
   ]
  },
  {
   "cell_type": "code",
   "execution_count": 6,
   "id": "e6a96d2c",
   "metadata": {},
   "outputs": [
    {
     "name": "stdout",
     "output_type": "stream",
     "text": [
      "WARNING: Could not detect a GPU. Neural Network generation will be slow.\n",
      "\n",
      "\u001b[01;1mBrainome Table Compiler v1.005-7-prod\u001b[0m\n",
      "Copyright (c) 2019-2021 Brainome, Inc. All Rights Reserved.\n",
      "Licensed to:                 y Demo User  (Evaluation)\n",
      "Expiration Date:             2021-12-12   135 days left\n",
      "Maximum File Size:           100 MB\n",
      "Maximum Instances:           20000\n",
      "Maximum Attributes:          100\n",
      "Maximum Classes:             unlimited\n",
      "Connected to:                daimensions.brainome.ai  (local execution)\n",
      "\n",
      "\u001b[01;1mCommand:\u001b[0m\n",
      "    btc titanic_train.csv -measureonly -y -rank\n",
      "\n",
      "Start Time:                 07/30/2021, 00:31 UTC\n",
      "\n",
      "Cleaning...done. \n",
      "Ranking attributes...done. \n",
      "\n",
      "\u001b[01;1mAttribute Ranking:\u001b[0m\n",
      "    Columns selected:           Sex, Sibling_Spouse, Parent_Children, Cabin_Class\n",
      "    Risk of coincidental column correlation:    0.0%\n",
      "    \n",
      "    Test Accuracy Progression:\n",
      "                                          Sex :   78.75%\n",
      "                               Sibling_Spouse :   79.62% change   +0.88%\n",
      "                              Parent_Children :   80.25% change   +0.62%\n",
      "                                  Cabin_Class :   80.88% change   +0.63%\n",
      "         \n",
      "Splitting into training and validation...done. \n",
      "Pre-training measurements...done. \n",
      "\n",
      "\n",
      "\u001b[01;1mPre-training Measurements\u001b[0m\n",
      "Data:\n",
      "    Input:                      titanic_train.csv\n",
      "    Target Column:              Survived\n",
      "    Number of instances:        800\n",
      "    Number of attributes:         4 out of 11\n",
      "    Number of classes:            2\n",
      "\n",
      "Class Balance:                \n",
      "                            died: 61.50%\n",
      "                        survived: 38.50%\n",
      "\n",
      "Learnability:\n",
      "    Best guess accuracy:          61.50%\n",
      "    Data Sufficiency:             Not enough data to generalize. [red]\n",
      "\n",
      "Capacity Progression:             at [ 5%, 10%, 20%, 40%, 80%, 100% ]\n",
      "    Ideal Machine Learner:              4,   5,   7,   7,   7,   8\n",
      "\n",
      "\n",
      "\n",
      "\n",
      "Expected Generalization:\n",
      "    Decision Tree:               623.05 bits/bit\n",
      "    Neural Network:               15.70 bits/bit\n",
      "    Random Forest:                40.00 bits/bit\n",
      "\n",
      "Expected Accuracy:              Training            Validation\n",
      "    Decision Tree:                81.00%                80.88%\n",
      "    Neural Network:                 ----                  ----\n",
      "    Random Forest:                83.75%                79.00%\n",
      "\n",
      "Recommendations:\n",
      "    We recommend using Random Forest -f RF.\n",
      "    If predictor accuracy is insufficient, try using the option -rank to automatically select the important attributes.\n",
      "    If predictor accuracy is insufficient, try using the effort option -e with a value of 5 or more to increase training time. \n",
      "\n",
      "Time to Build Estimates:\n",
      "    Decision Tree:                a few seconds\n",
      "\n",
      "\n",
      "\n",
      "\n",
      "\n",
      "\n"
     ]
    }
   ],
   "source": [
    "!brainome titanic_train.csv -measureonly -y -rank"
   ]
  },
  {
   "cell_type": "markdown",
   "id": "51f05633",
   "metadata": {},
   "source": [
    "## Build a model, validate, and compare\n"
   ]
  },
  {
   "cell_type": "code",
   "execution_count": 7,
   "id": "337da6b4",
   "metadata": {},
   "outputs": [
    {
     "name": "stdout",
     "output_type": "stream",
     "text": [
      "WARNING: Could not detect a GPU. Neural Network generation will be slow.\n",
      "\n",
      "\u001b[01;1mBrainome Table Compiler v1.005-7-prod\u001b[0m\n",
      "Copyright (c) 2019-2021 Brainome, Inc. All Rights Reserved.\n",
      "Licensed to:                 y Demo User  (Evaluation)\n",
      "Expiration Date:             2021-12-12   135 days left\n",
      "Maximum File Size:           100 MB\n",
      "Maximum Instances:           20000\n",
      "Maximum Attributes:          100\n",
      "Maximum Classes:             unlimited\n",
      "Connected to:                daimensions.brainome.ai  (local execution)\n",
      "\n",
      "\u001b[01;1mCommand:\u001b[0m\n",
      "    btc titanic_train.csv -modelonly -y -rank -o predictor.py\n",
      "\n",
      "Start Time:                 07/30/2021, 00:32 UTC\n",
      "\n",
      "Cleaning...done. \n",
      "Ranking attributes...done. \n",
      "\n",
      "\u001b[01;1mAttribute Ranking:\u001b[0m\n",
      "    Columns selected:           Sex, Sibling_Spouse, Parent_Children, Cabin_Class\n",
      "    Risk of coincidental column correlation:    0.0%\n",
      "    \n",
      "    Test Accuracy Progression:\n",
      "                                          Sex :   78.75%\n",
      "                               Sibling_Spouse :   79.62% change   +0.88%\n",
      "                              Parent_Children :   80.25% change   +0.62%\n",
      "                                  Cabin_Class :   80.88% change   +0.63%\n",
      "         \n",
      "Splitting into training and validation...done. \n",
      "Pre-training measurements...done. \n",
      "\n",
      "Building classifier...done. \n",
      "Compiling predictor...done. \n",
      "Validating predictor...done. \n",
      "\n",
      "\u001b[01;1mPredictor:\u001b[0m                        predictor.py\n",
      "    Classifier Type:              Random Forest\n",
      "    System Type:                  Binary classifier\n",
      "    Training / Validation Split:  50% : 50%\n",
      "    Accuracy:\n",
      "      Best-guess accuracy:        61.50%\n",
      "      Training accuracy:          82.00% (328/400 correct)\n",
      "      Validation Accuracy:        79.50% (318/400 correct)\n",
      "      Combined Model Accuracy:    80.75% (646/800 correct)\n",
      "\n",
      "    Model Capacity (MEC):         17    bits\n",
      "\n",
      "    Generalization Ratio:         18.55 bits/bit\n",
      "    Percent of Data Memorized:    10.95%\n",
      "    Resilience to Noise:          -1.29 dB\n",
      "\n",
      "\n",
      "    Training Confusion Matrix:\n",
      "              Actual | Predicted\n",
      "              ------ | ---------\n",
      "                died |  221   25 \n",
      "            survived |   47  107 \n",
      "\n",
      "    Validation Confusion Matrix:\n",
      "              Actual | Predicted\n",
      "              ------ | ---------\n",
      "                died |  217   29 \n",
      "            survived |   53  101 \n",
      "\n",
      "    Training Accuracy by Class:\n",
      "            Survived |   TP   FP   TN   FN     TPR      TNR      PPV      NPV       F1       TS \n",
      "            -------- | ---- ---- ---- ---- -------- -------- -------- -------- -------- --------\n",
      "                died |  221   47  107   25   89.84%   69.48%   82.46%   81.06%   85.99%   75.43%\n",
      "            survived |  107   25  221   47   69.48%   89.84%   81.06%   82.46%   74.83%   59.78%\n",
      "\n",
      "    Validation Accuracy by Class:\n",
      "            Survived |   TP   FP   TN   FN     TPR      TNR      PPV      NPV       F1       TS \n",
      "            -------- | ---- ---- ---- ---- -------- -------- -------- -------- -------- --------\n",
      "                died |  217   53  101   29   88.21%   65.58%   80.37%   77.69%   84.11%   72.58%\n",
      "            survived |  101   29  217   53   65.58%   88.21%   77.69%   80.37%   71.13%   55.19%\n",
      "\n",
      "\n",
      "    Attribute Ranking:\n",
      "                                      Feature | Relative Importance\n",
      "                                          Sex :   0.6698\n",
      "                                  Cabin_Class :   0.2146\n",
      "                              Parent_Children :   0.0622\n",
      "                               Sibling_Spouse :   0.0533\n",
      "         \n",
      "\n",
      "\n",
      "\n",
      "End Time:           07/30/2021, 00:32 UTC\n",
      "Runtime Duration:   8s\n",
      "\n"
     ]
    }
   ],
   "source": [
    "!brainome titanic_train.csv -modelonly -y -rank -o predictor.py"
   ]
  },
  {
   "cell_type": "markdown",
   "id": "bd4fae03",
   "metadata": {},
   "source": [
    "## Next Step\n",
    "Check out [Brainome 202 Our Models](./brainome_202_Our_Models.ipynb)"
   ]
  }
 ],
 "metadata": {
  "kernelspec": {
   "display_name": "Python 3 (ipykernel)",
   "language": "python",
   "name": "python3"
  },
  "language_info": {
   "codemirror_mode": {
    "name": "ipython",
    "version": 3
   },
   "file_extension": ".py",
   "mimetype": "text/x-python",
   "name": "python",
   "nbconvert_exporter": "python",
   "pygments_lexer": "ipython3",
   "version": "3.9.6"
  }
 },
 "nbformat": 4,
 "nbformat_minor": 5
}
